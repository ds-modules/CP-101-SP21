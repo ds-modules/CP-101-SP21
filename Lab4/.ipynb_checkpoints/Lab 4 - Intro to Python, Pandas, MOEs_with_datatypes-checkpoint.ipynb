{
 "cells": [
  {
   "cell_type": "markdown",
   "metadata": {},
   "source": [
    "# Lab 4: Intro to Python, Pandas, and Margin of Errors"
   ]
  },
  {
   "cell_type": "markdown",
   "metadata": {},
   "source": [
    "<a>\n",
    "  <img src=\"images/census_worker_1920s_reddit.jpg\" width='800' height='1000'>\n",
    "  <div style='width: 1000px; text-align: left;'>Census bureau worker in the 1920s.</div>\n",
    "</a>"
   ]
  },
  {
   "cell_type": "markdown",
   "metadata": {},
   "source": [
    "In this lab you will be familiarizing yourself with the programming language called Python. Python is a so-called high level programming language. Which means it is very abstracted from machine languages and are easily readable by humans. \n",
    "\n",
    "Python is one of the most popular programming languages nowadays, and is used in various spheres from research and Data Science to Machine Learning and Artificial Intelligence.\n",
    "\n",
    "In this lab you will also learn:  \n",
    "1. **The basic data types in Python**  \n",
    "2. **Import a datset into Python (using one of the most popular Python libraries: Pandas)**  \n",
    "3. **Use built-in functions**  \n",
    "4. **Estimate margins of error from your datasets!**"
   ]
  },
  {
   "cell_type": "markdown",
   "metadata": {},
   "source": [
    "## <font color='red'> 1. Python's Data Types:\n",
    "- Numerals\n",
    "- Variables\n",
    "- Strings\n",
    "- Lists\n",
    "- Arrays (more on arrays in lab 7)"
   ]
  },
  {
   "cell_type": "markdown",
   "metadata": {},
   "source": [
    "### Numerals"
   ]
  },
  {
   "cell_type": "markdown",
   "metadata": {},
   "source": [
    "One of the data types that is commonly used in Python are numerals (aka numbers). \n",
    "With numerals, Python can be used as a calculator. Run the cells below to see it for yourself."
   ]
  },
  {
   "cell_type": "code",
   "execution_count": 1,
   "metadata": {},
   "outputs": [
    {
     "data": {
      "text/plain": [
       "8"
      ]
     },
     "execution_count": 1,
     "metadata": {},
     "output_type": "execute_result"
    }
   ],
   "source": [
    "3+5"
   ]
  },
  {
   "cell_type": "code",
   "execution_count": 2,
   "metadata": {},
   "outputs": [
    {
     "data": {
      "text/plain": [
       "120"
      ]
     },
     "execution_count": 2,
     "metadata": {},
     "output_type": "execute_result"
    }
   ],
   "source": [
    "140-20"
   ]
  },
  {
   "cell_type": "code",
   "execution_count": 3,
   "metadata": {},
   "outputs": [
    {
     "data": {
      "text/plain": [
       "20.0"
      ]
     },
     "execution_count": 3,
     "metadata": {},
     "output_type": "execute_result"
    }
   ],
   "source": [
    "40/2"
   ]
  },
  {
   "cell_type": "code",
   "execution_count": 4,
   "metadata": {},
   "outputs": [
    {
     "data": {
      "text/plain": [
       "4"
      ]
     },
     "execution_count": 4,
     "metadata": {},
     "output_type": "execute_result"
    }
   ],
   "source": [
    "2*2"
   ]
  },
  {
   "cell_type": "markdown",
   "metadata": {},
   "source": [
    "Python follows the same arithmetic rules as we do. So guess what the output of the next cell will be:"
   ]
  },
  {
   "cell_type": "code",
   "execution_count": 5,
   "metadata": {},
   "outputs": [
    {
     "data": {
      "text/plain": [
       "11"
      ]
     },
     "execution_count": 5,
     "metadata": {},
     "output_type": "execute_result"
    }
   ],
   "source": [
    "2*5+1"
   ]
  },
  {
   "cell_type": "markdown",
   "metadata": {},
   "source": [
    "What about this cell:"
   ]
  },
  {
   "cell_type": "code",
   "execution_count": 6,
   "metadata": {},
   "outputs": [
    {
     "data": {
      "text/plain": [
       "12"
      ]
     },
     "execution_count": 6,
     "metadata": {},
     "output_type": "execute_result"
    }
   ],
   "source": [
    "2*(5+1)"
   ]
  },
  {
   "cell_type": "markdown",
   "metadata": {},
   "source": [
    "Guess what a double star notation does? Run the cell below to see if you had the right intuition about it."
   ]
  },
  {
   "cell_type": "code",
   "execution_count": 7,
   "metadata": {},
   "outputs": [
    {
     "data": {
      "text/plain": [
       "9"
      ]
     },
     "execution_count": 7,
     "metadata": {},
     "output_type": "execute_result"
    }
   ],
   "source": [
    "3**2"
   ]
  },
  {
   "cell_type": "markdown",
   "metadata": {},
   "source": [
    "There are a few types of them: **integers** and **floats**. \n",
    "\n",
    "They are not compatible, so it is important to remember which one you are using in order to avoid bugs. Floats use decimal points, so it will be easy for you to spot them. See how the output changes when we print the same number as an integer and as a float."
   ]
  },
  {
   "cell_type": "code",
   "execution_count": 8,
   "metadata": {},
   "outputs": [
    {
     "data": {
      "text/plain": [
       "1776"
      ]
     },
     "execution_count": 8,
     "metadata": {},
     "output_type": "execute_result"
    }
   ],
   "source": [
    "int(1776)"
   ]
  },
  {
   "cell_type": "code",
   "execution_count": 9,
   "metadata": {},
   "outputs": [
    {
     "data": {
      "text/plain": [
       "1776.0"
      ]
     },
     "execution_count": 9,
     "metadata": {},
     "output_type": "execute_result"
    }
   ],
   "source": [
    "float(1776)"
   ]
  },
  {
   "cell_type": "markdown",
   "metadata": {},
   "source": [
    "### Variables"
   ]
  },
  {
   "cell_type": "markdown",
   "metadata": {},
   "source": [
    "To store the values in Python (and in many other programming languages) we need to use variables. Variables can store all kinds of information. This is useful if you plan to use the same values later on in your project. It will save you time and make your code more readable. To see how we store values in variables run the cell below."
   ]
  },
  {
   "cell_type": "code",
   "execution_count": 30,
   "metadata": {},
   "outputs": [
    {
     "data": {
      "text/plain": [
       "'Wait for it!'"
      ]
     },
     "execution_count": 30,
     "metadata": {},
     "output_type": "execute_result"
    }
   ],
   "source": [
    "burr = \"Wait for it!\"\n",
    "burr"
   ]
  },
  {
   "cell_type": "markdown",
   "metadata": {},
   "source": [
    "If you don't assign any value to the variable and call it later, it will give you an error. We can see it in the cell below. (It will give you an error, but it was planned that way)"
   ]
  },
  {
   "cell_type": "code",
   "execution_count": 11,
   "metadata": {},
   "outputs": [
    {
     "data": {
      "text/plain": [
       "'Wait for it!'"
      ]
     },
     "execution_count": 11,
     "metadata": {},
     "output_type": "execute_result"
    }
   ],
   "source": [
    "burr"
   ]
  },
  {
   "cell_type": "code",
   "execution_count": 12,
   "metadata": {},
   "outputs": [
    {
     "ename": "NameError",
     "evalue": "name 'x' is not defined",
     "output_type": "error",
     "traceback": [
      "\u001b[0;31m---------------------------------------------------------------------------\u001b[0m",
      "\u001b[0;31mNameError\u001b[0m                                 Traceback (most recent call last)",
      "\u001b[0;32m<ipython-input-12-33c5b6ca9af3>\u001b[0m in \u001b[0;36m<module>\u001b[0;34m\u001b[0m\n\u001b[1;32m      1\u001b[0m \u001b[0my\u001b[0m \u001b[0;34m=\u001b[0m \u001b[0;36m8\u001b[0m\u001b[0;34m\u001b[0m\u001b[0;34m\u001b[0m\u001b[0m\n\u001b[0;32m----> 2\u001b[0;31m \u001b[0mz\u001b[0m \u001b[0;34m=\u001b[0m \u001b[0mx\u001b[0m\u001b[0;34m+\u001b[0m\u001b[0my\u001b[0m\u001b[0;34m\u001b[0m\u001b[0;34m\u001b[0m\u001b[0m\n\u001b[0m",
      "\u001b[0;31mNameError\u001b[0m: name 'x' is not defined"
     ]
    }
   ],
   "source": [
    "y = 8\n",
    "z = x+y"
   ]
  },
  {
   "cell_type": "markdown",
   "metadata": {},
   "source": [
    "Here, we did not assign x to anything, and since x was not defined, we cannot add its value to y, so this produces an error."
   ]
  },
  {
   "cell_type": "markdown",
   "metadata": {},
   "source": [
    "### Strings"
   ]
  },
  {
   "cell_type": "markdown",
   "metadata": {},
   "source": [
    "The phrases and words in Python are always stored inbetween double or single quotation marks. They are formally called strings."
   ]
  },
  {
   "cell_type": "code",
   "execution_count": null,
   "metadata": {},
   "outputs": [],
   "source": [
    "\"History has its eyes on you\""
   ]
  },
  {
   "cell_type": "markdown",
   "metadata": {},
   "source": [
    "Also, you can use both single and double quotes for the strings, but sometimes you need to use single quotes inside of the string and that might cause a problem (it will \"exit it out\"). \n",
    "\n",
    "You can just always use the double quotation marks on the outside to avoid such problem. Or, you can use a backslash before the single quotation mark. It will tell Python to ignore it and not to exit it out. You can see an example of it below:"
   ]
  },
  {
   "cell_type": "code",
   "execution_count": null,
   "metadata": {},
   "outputs": [],
   "source": [
    "print(\"What'd I miss\")\n",
    "print('You\\'ll be back')"
   ]
  },
  {
   "cell_type": "markdown",
   "metadata": {},
   "source": [
    "The strings can also be \"added\" onto one another. Run the cell below to see how it works."
   ]
  },
  {
   "cell_type": "code",
   "execution_count": null,
   "metadata": {},
   "outputs": [],
   "source": [
    "\"York\"+\"town\""
   ]
  },
  {
   "cell_type": "markdown",
   "metadata": {},
   "source": [
    "When we are using Jupyter Notebooks, the last line is printed out automatically (unless it is performing some other operation, eg. getting assigned to a specific value). But if you would like to print more than just the last line, you can use the print( ) method. If you just run the next cell, it will not give you any output."
   ]
  },
  {
   "cell_type": "code",
   "execution_count": null,
   "metadata": {},
   "outputs": [],
   "source": [
    "aaron = \"Ev’ryone give it up for America’s favorite fighting Frenchman\"\n",
    "everyone = \"Lafayette!\"\n",
    "mdl = \"I’m takin this horse by the reins\""
   ]
  },
  {
   "cell_type": "markdown",
   "metadata": {},
   "source": [
    "<div class=\"alert alert-success\" style=\"font-size:120%\">\n",
    "<b>YOUR TURN</b>: <br>\n",
    " Try using print( ) in the cell below to output all the three lines of lyrics of \"Guns and Ships\".  \n",
    "    \n",
    " <b>Hint:</b>  you'll need to use it three times.\n",
    "</div>"
   ]
  },
  {
   "cell_type": "code",
   "execution_count": null,
   "metadata": {},
   "outputs": [],
   "source": [
    "### YOUR CODE HERE ###\n",
    "\n",
    "\n"
   ]
  },
  {
   "cell_type": "markdown",
   "metadata": {},
   "source": [
    "A string is a sequence of characters. If you want to see how many characters your string has, use the len() method. Do you think spaces are considered characters in Python? Check if your intuition was correct by running the cell below."
   ]
  },
  {
   "cell_type": "code",
   "execution_count": null,
   "metadata": {},
   "outputs": [],
   "source": [
    "len(burr)"
   ]
  },
  {
   "cell_type": "markdown",
   "metadata": {},
   "source": [
    "<div class=\"alert alert-success\" style=\"font-size:120%\">\n",
    "<b>YOUR TURN</b>: <br>\n",
    " Now create a variable name in which you will save your full name. Note that you need to call the variable once again in order to get an output.\n",
    "</div>"
   ]
  },
  {
   "cell_type": "code",
   "execution_count": null,
   "metadata": {},
   "outputs": [],
   "source": [
    "### YOUR CODE HERE ###\n",
    "name = ...\n",
    "name"
   ]
  },
  {
   "cell_type": "markdown",
   "metadata": {},
   "source": [
    "Sometimes you need to switch the values in two variables. \n",
    "In the cell below we have the last names mixed up. The variable theodosia should have an output \"burr\" and philip should return \"hamilton\".\n",
    "How would you approach this problem without manually retyping the outputs?\n",
    "\n",
    "**Hint** Use a temporary variable in which you can temporarily save the value of one of the other variables. "
   ]
  },
  {
   "cell_type": "code",
   "execution_count": null,
   "metadata": {},
   "outputs": [],
   "source": [
    "theodosia = \"hamilton\"\n",
    "philip = \"burr\"\n",
    "\n",
    "##fill these in, Version 1:\n",
    "theodosia, philip = ...\n",
    "\n",
    "# Version 2\n",
    "temp = ...\n",
    "theodosia = ...\n",
    "philip = ..."
   ]
  },
  {
   "cell_type": "markdown",
   "metadata": {},
   "source": [
    "### Lists"
   ]
  },
  {
   "cell_type": "markdown",
   "metadata": {},
   "source": [
    "You have learned about the strings and numerals, it's time to take it up a notch. Another useful and very popular data type is a Python list.\n",
    "Lists can take various data types (both numerals, strings, arrays, other lists, etc). \n",
    "\n",
    "To create an empty list just make your variable equal to \"[ ]\", like so:"
   ]
  },
  {
   "cell_type": "code",
   "execution_count": null,
   "metadata": {},
   "outputs": [],
   "source": [
    "washington = []\n",
    "washington"
   ]
  },
  {
   "cell_type": "markdown",
   "metadata": {},
   "source": [
    "To add the values into your list you can either use lst.append( ), lst.insert( ), or lst.extend( )."
   ]
  },
  {
   "cell_type": "code",
   "execution_count": null,
   "metadata": {},
   "outputs": [],
   "source": [
    "washington.extend([\"Right Hand Man\"])\n",
    "washington"
   ]
  },
  {
   "cell_type": "code",
   "execution_count": null,
   "metadata": {},
   "outputs": [],
   "source": [
    "washington.insert(0, \"I need my\")\n",
    "washington"
   ]
  },
  {
   "cell_type": "code",
   "execution_count": null,
   "metadata": {},
   "outputs": [],
   "source": [
    "washington.append(\"Back\")\n",
    "washington"
   ]
  },
  {
   "cell_type": "markdown",
   "metadata": {},
   "source": [
    "Notice, that the insert method takes two positional values. You need to specify the index in the list at which it will be inserted, whilst append just adds the value to the end of the list. \n",
    "extend takes another list as its input. If you try to use a string or a number by itself, it will give you an error."
   ]
  },
  {
   "cell_type": "markdown",
   "metadata": {},
   "source": [
    "When you need to access an element at a specific index, that is the code you can use The code below returns the second element of the list."
   ]
  },
  {
   "cell_type": "code",
   "execution_count": null,
   "metadata": {},
   "outputs": [],
   "source": [
    "washington[1]"
   ]
  },
  {
   "cell_type": "markdown",
   "metadata": {},
   "source": [
    "**Note:** Python starts counting at 0, not 1."
   ]
  },
  {
   "cell_type": "markdown",
   "metadata": {},
   "source": [
    "Sometimes you just need to use part of the list. In this case you can use \":\" to modify your list. Let's make a new list:"
   ]
  },
  {
   "cell_type": "markdown",
   "metadata": {},
   "source": [
    "Sometimes you just need to use part of the list or copy the whole list into a new variable. In this\n",
    "case you can use \":\" to modify your list.\n",
    "The notation is:\n",
    "\n",
    "**a = b[start:stop:step]**\n",
    "\n",
    "***start***: the index you want to start with. (the default is 0)\n",
    "\n",
    "***stop***: the index you want to end with. (the default is the last number)\n",
    "\n",
    "***step***: use it, if you wish to skip some indeces (eg. use only every other value). For example, if you start with index 1 and step is 2, you will iterate through the 1st index, then 3rd, then 5th, etc. until you get to the stopping index. (the default is 1)\n",
    "\n",
    "Note that python will stop iterating at the value before the last index. See the following example:"
   ]
  },
  {
   "cell_type": "code",
   "execution_count": null,
   "metadata": {},
   "outputs": [],
   "source": [
    "lst = [1,2,3,4,5]"
   ]
  },
  {
   "cell_type": "code",
   "execution_count": null,
   "metadata": {
    "scrolled": true
   },
   "outputs": [],
   "source": [
    "lst[0:5:1]"
   ]
  },
  {
   "cell_type": "markdown",
   "metadata": {},
   "source": [
    "Note: if you wish to start iterating from the end of a list backwards, we use a negative step:"
   ]
  },
  {
   "cell_type": "code",
   "execution_count": null,
   "metadata": {},
   "outputs": [],
   "source": [
    "lst[::-1]"
   ]
  },
  {
   "cell_type": "code",
   "execution_count": null,
   "metadata": {},
   "outputs": [],
   "source": [
    "ham_songs = [\"Alexander Hamilton\", \"Aaron Burr, Sir\", \"My Shot\", \\\n",
    "             \"The Story of Tonight\", \"The Schuyler Sisters\", \"Farmer Refuted\",\n",
    "             \"You'll be Back\", \"Right Hand Man\", \"A Winter's Ball\", \\\n",
    "             \"Helpless\", \"Satisfied\"]\n",
    "\n",
    "every_other = ham_songs[::2] \n",
    "every_other"
   ]
  },
  {
   "cell_type": "code",
   "execution_count": 18,
   "metadata": {},
   "outputs": [
    {
     "data": {
      "text/plain": [
       "['I', 'am', 'not', 'throwing', 'away', 'my', 'shot']"
      ]
     },
     "execution_count": 18,
     "metadata": {},
     "output_type": "execute_result"
    }
   ],
   "source": [
    "lyrics = [\"I\", \"am\", \"not\", \"throwing\", \"away\", \"my\", \"shot\"]\n",
    "lyrics"
   ]
  },
  {
   "cell_type": "markdown",
   "metadata": {},
   "source": [
    "Let's say you want to save only the two last words from your old list into your new list. That's what you will need to do then:"
   ]
  },
  {
   "cell_type": "code",
   "execution_count": 24,
   "metadata": {},
   "outputs": [
    {
     "data": {
      "text/plain": [
       "['my', 'shot']"
      ]
     },
     "execution_count": 24,
     "metadata": {},
     "output_type": "execute_result"
    }
   ],
   "source": [
    "alex = lyrics[-2:]\n",
    "alex\n",
    "\n",
    "# alternatively you can use lyrics[5:]"
   ]
  },
  {
   "cell_type": "markdown",
   "metadata": {},
   "source": [
    "Notice also that if you want to learn the length of your list, you can use the same method \"len( )\", but it will not count all the characters anymore. Instead, it will count all the elements in it. Like so:"
   ]
  },
  {
   "cell_type": "code",
   "execution_count": null,
   "metadata": {},
   "outputs": [],
   "source": [
    "len(washington)"
   ]
  },
  {
   "cell_type": "markdown",
   "metadata": {},
   "source": [
    "<div class=\"alert alert-success\" style=\"font-size:120%\">\n",
    "<b>YOUR TURN</b>: <br>\n",
    " Create a list with the values 1, 2, 3, 4, and 5 and only get the values 2 and 4\n",
    "</div>"
   ]
  },
  {
   "cell_type": "code",
   "execution_count": 16,
   "metadata": {},
   "outputs": [
    {
     "data": {
      "text/plain": [
       "[2, 4]"
      ]
     },
     "execution_count": 16,
     "metadata": {},
     "output_type": "execute_result"
    }
   ],
   "source": [
    "### YOUR CODE HERE ###\n",
    "lst = [1,2,3,4,5]\n",
    "lst\n",
    "lst2=[lst[1], lst[3]]\n",
    "lst2"
   ]
  },
  {
   "cell_type": "markdown",
   "metadata": {},
   "source": [
    "## <font color='red'> 2. Datasets (Using Pandas)"
   ]
  },
  {
   "cell_type": "markdown",
   "metadata": {},
   "source": [
    "It is time for us to introduce a concept of Python libraries.\n",
    "Libraries are the sets of different functions that you can import and use. The two most popular libraries are **numpy** and **pandas**.\n",
    "\n",
    "\n",
    "Since we are using anaconda, a lot of libraries have been preloaded for you. You just need to \"call\" them. Just run the cell below. It will make our notebook know that we will be using these preinstalled libraries from that point on. "
   ]
  },
  {
   "cell_type": "markdown",
   "metadata": {},
   "source": [
    "### Pandas"
   ]
  },
  {
   "cell_type": "code",
   "execution_count": 3,
   "metadata": {},
   "outputs": [],
   "source": [
    "import pandas as pd\n",
    "import numpy as np"
   ]
  },
  {
   "cell_type": "code",
   "execution_count": 4,
   "metadata": {},
   "outputs": [
    {
     "data": {
      "text/html": [
       "<div>\n",
       "<style scoped>\n",
       "    .dataframe tbody tr th:only-of-type {\n",
       "        vertical-align: middle;\n",
       "    }\n",
       "\n",
       "    .dataframe tbody tr th {\n",
       "        vertical-align: top;\n",
       "    }\n",
       "\n",
       "    .dataframe thead th {\n",
       "        text-align: right;\n",
       "    }\n",
       "</style>\n",
       "<table border=\"1\" class=\"dataframe\">\n",
       "  <thead>\n",
       "    <tr style=\"text-align: right;\">\n",
       "      <th></th>\n",
       "      <th>Attendance</th>\n",
       "      <th>Capacity</th>\n",
       "      <th>Day</th>\n",
       "      <th>Full</th>\n",
       "      <th>Gross</th>\n",
       "      <th>Gross Potential</th>\n",
       "      <th>Month</th>\n",
       "      <th>Name</th>\n",
       "      <th>Performances</th>\n",
       "      <th>Theatre</th>\n",
       "      <th>Type</th>\n",
       "      <th>Year</th>\n",
       "    </tr>\n",
       "  </thead>\n",
       "  <tbody>\n",
       "    <tr>\n",
       "      <th>0</th>\n",
       "      <td>5500</td>\n",
       "      <td>88</td>\n",
       "      <td>26</td>\n",
       "      <td>08/26/1990</td>\n",
       "      <td>134456</td>\n",
       "      <td>0</td>\n",
       "      <td>8</td>\n",
       "      <td>Tru</td>\n",
       "      <td>8</td>\n",
       "      <td>Booth</td>\n",
       "      <td>Play</td>\n",
       "      <td>1990</td>\n",
       "    </tr>\n",
       "    <tr>\n",
       "      <th>1</th>\n",
       "      <td>1737</td>\n",
       "      <td>100</td>\n",
       "      <td>24</td>\n",
       "      <td>03/24/1991</td>\n",
       "      <td>100647</td>\n",
       "      <td>0</td>\n",
       "      <td>3</td>\n",
       "      <td>Miss Saigon</td>\n",
       "      <td>0</td>\n",
       "      <td>Broadway</td>\n",
       "      <td>Musical</td>\n",
       "      <td>1991</td>\n",
       "    </tr>\n",
       "    <tr>\n",
       "      <th>2</th>\n",
       "      <td>12160</td>\n",
       "      <td>100</td>\n",
       "      <td>31</td>\n",
       "      <td>03/31/1991</td>\n",
       "      <td>634424</td>\n",
       "      <td>0</td>\n",
       "      <td>3</td>\n",
       "      <td>Miss Saigon</td>\n",
       "      <td>0</td>\n",
       "      <td>Broadway</td>\n",
       "      <td>Musical</td>\n",
       "      <td>1991</td>\n",
       "    </tr>\n",
       "    <tr>\n",
       "      <th>3</th>\n",
       "      <td>13921</td>\n",
       "      <td>100</td>\n",
       "      <td>7</td>\n",
       "      <td>04/07/1991</td>\n",
       "      <td>713353</td>\n",
       "      <td>0</td>\n",
       "      <td>4</td>\n",
       "      <td>Miss Saigon</td>\n",
       "      <td>0</td>\n",
       "      <td>Broadway</td>\n",
       "      <td>Musical</td>\n",
       "      <td>1991</td>\n",
       "    </tr>\n",
       "    <tr>\n",
       "      <th>4</th>\n",
       "      <td>10973</td>\n",
       "      <td>90</td>\n",
       "      <td>14</td>\n",
       "      <td>04/14/1991</td>\n",
       "      <td>573981</td>\n",
       "      <td>0</td>\n",
       "      <td>4</td>\n",
       "      <td>Miss Saigon</td>\n",
       "      <td>4</td>\n",
       "      <td>Broadway</td>\n",
       "      <td>Musical</td>\n",
       "      <td>1991</td>\n",
       "    </tr>\n",
       "    <tr>\n",
       "      <th>5</th>\n",
       "      <td>14076</td>\n",
       "      <td>101</td>\n",
       "      <td>21</td>\n",
       "      <td>04/21/1991</td>\n",
       "      <td>706793</td>\n",
       "      <td>0</td>\n",
       "      <td>4</td>\n",
       "      <td>Miss Saigon</td>\n",
       "      <td>8</td>\n",
       "      <td>Broadway</td>\n",
       "      <td>Musical</td>\n",
       "      <td>1991</td>\n",
       "    </tr>\n",
       "    <tr>\n",
       "      <th>6</th>\n",
       "      <td>14065</td>\n",
       "      <td>101</td>\n",
       "      <td>28</td>\n",
       "      <td>04/28/1991</td>\n",
       "      <td>714968</td>\n",
       "      <td>0</td>\n",
       "      <td>4</td>\n",
       "      <td>Miss Saigon</td>\n",
       "      <td>8</td>\n",
       "      <td>Broadway</td>\n",
       "      <td>Musical</td>\n",
       "      <td>1991</td>\n",
       "    </tr>\n",
       "    <tr>\n",
       "      <th>7</th>\n",
       "      <td>14064</td>\n",
       "      <td>101</td>\n",
       "      <td>5</td>\n",
       "      <td>05/05/1991</td>\n",
       "      <td>730765</td>\n",
       "      <td>0</td>\n",
       "      <td>5</td>\n",
       "      <td>Miss Saigon</td>\n",
       "      <td>8</td>\n",
       "      <td>Broadway</td>\n",
       "      <td>Musical</td>\n",
       "      <td>1991</td>\n",
       "    </tr>\n",
       "    <tr>\n",
       "      <th>8</th>\n",
       "      <td>13896</td>\n",
       "      <td>100</td>\n",
       "      <td>12</td>\n",
       "      <td>05/12/1991</td>\n",
       "      <td>766713</td>\n",
       "      <td>0</td>\n",
       "      <td>5</td>\n",
       "      <td>Miss Saigon</td>\n",
       "      <td>8</td>\n",
       "      <td>Broadway</td>\n",
       "      <td>Musical</td>\n",
       "      <td>1991</td>\n",
       "    </tr>\n",
       "    <tr>\n",
       "      <th>9</th>\n",
       "      <td>13738</td>\n",
       "      <td>99</td>\n",
       "      <td>19</td>\n",
       "      <td>05/19/1991</td>\n",
       "      <td>763332</td>\n",
       "      <td>0</td>\n",
       "      <td>5</td>\n",
       "      <td>Miss Saigon</td>\n",
       "      <td>8</td>\n",
       "      <td>Broadway</td>\n",
       "      <td>Musical</td>\n",
       "      <td>1991</td>\n",
       "    </tr>\n",
       "  </tbody>\n",
       "</table>\n",
       "</div>"
      ],
      "text/plain": [
       "   Attendance  Capacity  Day        Full   Gross  Gross Potential  Month  \\\n",
       "0        5500        88   26  08/26/1990  134456                0      8   \n",
       "1        1737       100   24  03/24/1991  100647                0      3   \n",
       "2       12160       100   31  03/31/1991  634424                0      3   \n",
       "3       13921       100    7  04/07/1991  713353                0      4   \n",
       "4       10973        90   14  04/14/1991  573981                0      4   \n",
       "5       14076       101   21  04/21/1991  706793                0      4   \n",
       "6       14065       101   28  04/28/1991  714968                0      4   \n",
       "7       14064       101    5  05/05/1991  730765                0      5   \n",
       "8       13896       100   12  05/12/1991  766713                0      5   \n",
       "9       13738        99   19  05/19/1991  763332                0      5   \n",
       "\n",
       "          Name  Performances   Theatre     Type  Year  \n",
       "0          Tru             8     Booth     Play  1990  \n",
       "1  Miss Saigon             0  Broadway  Musical  1991  \n",
       "2  Miss Saigon             0  Broadway  Musical  1991  \n",
       "3  Miss Saigon             0  Broadway  Musical  1991  \n",
       "4  Miss Saigon             4  Broadway  Musical  1991  \n",
       "5  Miss Saigon             8  Broadway  Musical  1991  \n",
       "6  Miss Saigon             8  Broadway  Musical  1991  \n",
       "7  Miss Saigon             8  Broadway  Musical  1991  \n",
       "8  Miss Saigon             8  Broadway  Musical  1991  \n",
       "9  Miss Saigon             8  Broadway  Musical  1991  "
      ]
     },
     "execution_count": 4,
     "metadata": {},
     "output_type": "execute_result"
    }
   ],
   "source": [
    "# Now that you are familiar with all the basics of Python coding, \n",
    "# it is time for you to learn how to work with Tables and Pandas Data Frames. \n",
    "# First let's upload the dataset we have selected to work on, using the pd.read_csv command.\n",
    "\n",
    "broadway = pd.read_csv(\"data/broadway.csv\")\n",
    "\n",
    "# Note that you can also read in excels: pd.read_excel('example.xlsx')\n",
    "# You can read in most data types: just look up pandas read [insert file type]\n",
    "\n",
    "# The dataset.head() comments will show you the top few rows of the table that you loaded in\n",
    "\n",
    "broadway.head(10)"
   ]
  },
  {
   "cell_type": "code",
   "execution_count": 27,
   "metadata": {},
   "outputs": [
    {
     "data": {
      "text/plain": [
       "0                             Tru\n",
       "1                     Miss Saigon\n",
       "2                     Miss Saigon\n",
       "3                     Miss Saigon\n",
       "4                     Miss Saigon\n",
       "                   ...           \n",
       "31291                  The Humans\n",
       "31292               The Lion King\n",
       "31293    The Phantom Of The Opera\n",
       "31294                    Waitress\n",
       "31295                      Wicked\n",
       "Name: Name, Length: 31296, dtype: object"
      ]
     },
     "execution_count": 27,
     "metadata": {},
     "output_type": "execute_result"
    }
   ],
   "source": [
    "# We can call a column in our dataset by typing:\n",
    "# It will return an array of values. Think of every column in a Pandas table as a vertical list.\n",
    "\n",
    "broadway['Name']"
   ]
  },
  {
   "cell_type": "code",
   "execution_count": 7,
   "metadata": {},
   "outputs": [
    {
     "data": {
      "text/plain": [
       "14065"
      ]
     },
     "execution_count": 7,
     "metadata": {},
     "output_type": "execute_result"
    }
   ],
   "source": [
    "# You can work with arrays like they are lists. For example, we can index into them to extract one value:\n",
    "\n",
    "broadway['Attendance'][6]"
   ]
  },
  {
   "cell_type": "code",
   "execution_count": 32,
   "metadata": {},
   "outputs": [
    {
     "data": {
      "text/plain": [
       "0         5.500\n",
       "1         1.737\n",
       "2        12.160\n",
       "3        13.921\n",
       "4        10.973\n",
       "          ...  \n",
       "31291     7.234\n",
       "31292    13.485\n",
       "31293    10.966\n",
       "31294     8.058\n",
       "31295    13.804\n",
       "Name: Attendance, Length: 31296, dtype: float64"
      ]
     },
     "execution_count": 32,
     "metadata": {},
     "output_type": "execute_result"
    }
   ],
   "source": [
    "# Since columns are lists, you can do Python arithmetic on them! \n",
    "# For example, we can divide Attendance by 1000 to get Audience per 1000s:\n",
    "\n",
    "broadway['Attendance'] / 1000"
   ]
  },
  {
   "cell_type": "code",
   "execution_count": 8,
   "metadata": {},
   "outputs": [
    {
     "data": {
      "text/html": [
       "<div>\n",
       "<style scoped>\n",
       "    .dataframe tbody tr th:only-of-type {\n",
       "        vertical-align: middle;\n",
       "    }\n",
       "\n",
       "    .dataframe tbody tr th {\n",
       "        vertical-align: top;\n",
       "    }\n",
       "\n",
       "    .dataframe thead th {\n",
       "        text-align: right;\n",
       "    }\n",
       "</style>\n",
       "<table border=\"1\" class=\"dataframe\">\n",
       "  <thead>\n",
       "    <tr style=\"text-align: right;\">\n",
       "      <th></th>\n",
       "      <th>Attendance</th>\n",
       "      <th>Capacity</th>\n",
       "      <th>Day</th>\n",
       "      <th>Full</th>\n",
       "      <th>Gross</th>\n",
       "      <th>Gross Potential</th>\n",
       "      <th>Month</th>\n",
       "      <th>Name</th>\n",
       "      <th>Performances</th>\n",
       "      <th>Theatre</th>\n",
       "      <th>Type</th>\n",
       "      <th>Year</th>\n",
       "    </tr>\n",
       "  </thead>\n",
       "  <tbody>\n",
       "    <tr>\n",
       "      <th>30225</th>\n",
       "      <td>7074</td>\n",
       "      <td>87</td>\n",
       "      <td>3</td>\n",
       "      <td>01/03/2016</td>\n",
       "      <td>518228</td>\n",
       "      <td>59</td>\n",
       "      <td>1</td>\n",
       "      <td>A View From The Bridge 2015</td>\n",
       "      <td>8</td>\n",
       "      <td>Lyceum</td>\n",
       "      <td>Play</td>\n",
       "      <td>2016</td>\n",
       "    </tr>\n",
       "    <tr>\n",
       "      <th>30226</th>\n",
       "      <td>15542</td>\n",
       "      <td>100</td>\n",
       "      <td>3</td>\n",
       "      <td>01/03/2016</td>\n",
       "      <td>2398110</td>\n",
       "      <td>105</td>\n",
       "      <td>1</td>\n",
       "      <td>Aladdin</td>\n",
       "      <td>9</td>\n",
       "      <td>New Amsterdam</td>\n",
       "      <td>Musical</td>\n",
       "      <td>2016</td>\n",
       "    </tr>\n",
       "    <tr>\n",
       "      <th>30227</th>\n",
       "      <td>6997</td>\n",
       "      <td>83</td>\n",
       "      <td>3</td>\n",
       "      <td>01/03/2016</td>\n",
       "      <td>552338</td>\n",
       "      <td>60</td>\n",
       "      <td>1</td>\n",
       "      <td>Allegiance</td>\n",
       "      <td>8</td>\n",
       "      <td>Longacre</td>\n",
       "      <td>Musical</td>\n",
       "      <td>2016</td>\n",
       "    </tr>\n",
       "    <tr>\n",
       "      <th>30228</th>\n",
       "      <td>11546</td>\n",
       "      <td>86</td>\n",
       "      <td>3</td>\n",
       "      <td>01/03/2016</td>\n",
       "      <td>1349303</td>\n",
       "      <td>92</td>\n",
       "      <td>1</td>\n",
       "      <td>An American In Paris</td>\n",
       "      <td>8</td>\n",
       "      <td>Palace</td>\n",
       "      <td>Musical</td>\n",
       "      <td>2016</td>\n",
       "    </tr>\n",
       "    <tr>\n",
       "      <th>30229</th>\n",
       "      <td>7857</td>\n",
       "      <td>96</td>\n",
       "      <td>3</td>\n",
       "      <td>01/03/2016</td>\n",
       "      <td>1042635</td>\n",
       "      <td>86</td>\n",
       "      <td>1</td>\n",
       "      <td>Beautiful</td>\n",
       "      <td>8</td>\n",
       "      <td>Stephen Sondheim</td>\n",
       "      <td>Musical</td>\n",
       "      <td>2016</td>\n",
       "    </tr>\n",
       "    <tr>\n",
       "      <th>...</th>\n",
       "      <td>...</td>\n",
       "      <td>...</td>\n",
       "      <td>...</td>\n",
       "      <td>...</td>\n",
       "      <td>...</td>\n",
       "      <td>...</td>\n",
       "      <td>...</td>\n",
       "      <td>...</td>\n",
       "      <td>...</td>\n",
       "      <td>...</td>\n",
       "      <td>...</td>\n",
       "      <td>...</td>\n",
       "    </tr>\n",
       "    <tr>\n",
       "      <th>31291</th>\n",
       "      <td>7234</td>\n",
       "      <td>87</td>\n",
       "      <td>14</td>\n",
       "      <td>08/14/2016</td>\n",
       "      <td>603770</td>\n",
       "      <td>62</td>\n",
       "      <td>8</td>\n",
       "      <td>The Humans</td>\n",
       "      <td>8</td>\n",
       "      <td>Schoenfeld</td>\n",
       "      <td>Play</td>\n",
       "      <td>2016</td>\n",
       "    </tr>\n",
       "    <tr>\n",
       "      <th>31292</th>\n",
       "      <td>13485</td>\n",
       "      <td>99</td>\n",
       "      <td>14</td>\n",
       "      <td>08/14/2016</td>\n",
       "      <td>2233894</td>\n",
       "      <td>97</td>\n",
       "      <td>8</td>\n",
       "      <td>The Lion King</td>\n",
       "      <td>8</td>\n",
       "      <td>Minskoff</td>\n",
       "      <td>Musical</td>\n",
       "      <td>2016</td>\n",
       "    </tr>\n",
       "    <tr>\n",
       "      <th>31293</th>\n",
       "      <td>10966</td>\n",
       "      <td>85</td>\n",
       "      <td>14</td>\n",
       "      <td>08/14/2016</td>\n",
       "      <td>999632</td>\n",
       "      <td>66</td>\n",
       "      <td>8</td>\n",
       "      <td>The Phantom Of The Opera</td>\n",
       "      <td>8</td>\n",
       "      <td>Majestic</td>\n",
       "      <td>Musical</td>\n",
       "      <td>2016</td>\n",
       "    </tr>\n",
       "    <tr>\n",
       "      <th>31294</th>\n",
       "      <td>8058</td>\n",
       "      <td>96</td>\n",
       "      <td>14</td>\n",
       "      <td>08/14/2016</td>\n",
       "      <td>990128</td>\n",
       "      <td>97</td>\n",
       "      <td>8</td>\n",
       "      <td>Waitress</td>\n",
       "      <td>8</td>\n",
       "      <td>Brooks Atkinson</td>\n",
       "      <td>Musical</td>\n",
       "      <td>2016</td>\n",
       "    </tr>\n",
       "    <tr>\n",
       "      <th>31295</th>\n",
       "      <td>13804</td>\n",
       "      <td>95</td>\n",
       "      <td>14</td>\n",
       "      <td>08/14/2016</td>\n",
       "      <td>1779664</td>\n",
       "      <td>100</td>\n",
       "      <td>8</td>\n",
       "      <td>Wicked</td>\n",
       "      <td>8</td>\n",
       "      <td>Gershwin</td>\n",
       "      <td>Musical</td>\n",
       "      <td>2016</td>\n",
       "    </tr>\n",
       "  </tbody>\n",
       "</table>\n",
       "<p>1071 rows × 12 columns</p>\n",
       "</div>"
      ],
      "text/plain": [
       "       Attendance  Capacity  Day        Full    Gross  Gross Potential  Month  \\\n",
       "30225        7074        87    3  01/03/2016   518228               59      1   \n",
       "30226       15542       100    3  01/03/2016  2398110              105      1   \n",
       "30227        6997        83    3  01/03/2016   552338               60      1   \n",
       "30228       11546        86    3  01/03/2016  1349303               92      1   \n",
       "30229        7857        96    3  01/03/2016  1042635               86      1   \n",
       "...           ...       ...  ...         ...      ...              ...    ...   \n",
       "31291        7234        87   14  08/14/2016   603770               62      8   \n",
       "31292       13485        99   14  08/14/2016  2233894               97      8   \n",
       "31293       10966        85   14  08/14/2016   999632               66      8   \n",
       "31294        8058        96   14  08/14/2016   990128               97      8   \n",
       "31295       13804        95   14  08/14/2016  1779664              100      8   \n",
       "\n",
       "                              Name  Performances           Theatre     Type  \\\n",
       "30225  A View From The Bridge 2015             8            Lyceum     Play   \n",
       "30226                      Aladdin             9     New Amsterdam  Musical   \n",
       "30227                   Allegiance             8          Longacre  Musical   \n",
       "30228         An American In Paris             8            Palace  Musical   \n",
       "30229                    Beautiful             8  Stephen Sondheim  Musical   \n",
       "...                            ...           ...               ...      ...   \n",
       "31291                   The Humans             8        Schoenfeld     Play   \n",
       "31292                The Lion King             8          Minskoff  Musical   \n",
       "31293     The Phantom Of The Opera             8          Majestic  Musical   \n",
       "31294                     Waitress             8   Brooks Atkinson  Musical   \n",
       "31295                       Wicked             8          Gershwin  Musical   \n",
       "\n",
       "       Year  \n",
       "30225  2016  \n",
       "30226  2016  \n",
       "30227  2016  \n",
       "30228  2016  \n",
       "30229  2016  \n",
       "...     ...  \n",
       "31291  2016  \n",
       "31292  2016  \n",
       "31293  2016  \n",
       "31294  2016  \n",
       "31295  2016  \n",
       "\n",
       "[1071 rows x 12 columns]"
      ]
     },
     "execution_count": 8,
     "metadata": {},
     "output_type": "execute_result"
    }
   ],
   "source": [
    "# Another neat thing you can do with pandas is filter out certain values.\n",
    "# For example, if you only wanted to see Broadway shows from 2016, you can do the following\n",
    "\n",
    "shows_2016 = broadway[broadway.Year == 2016]\n",
    "shows_2016\n",
    "\n",
    "#Note: Here we created a new table called \"shows_2016\"."
   ]
  },
  {
   "cell_type": "code",
   "execution_count": 33,
   "metadata": {},
   "outputs": [
    {
     "data": {
      "text/html": [
       "<div>\n",
       "<style scoped>\n",
       "    .dataframe tbody tr th:only-of-type {\n",
       "        vertical-align: middle;\n",
       "    }\n",
       "\n",
       "    .dataframe tbody tr th {\n",
       "        vertical-align: top;\n",
       "    }\n",
       "\n",
       "    .dataframe thead th {\n",
       "        text-align: right;\n",
       "    }\n",
       "</style>\n",
       "<table border=\"1\" class=\"dataframe\">\n",
       "  <thead>\n",
       "    <tr style=\"text-align: right;\">\n",
       "      <th></th>\n",
       "      <th>Attendance</th>\n",
       "      <th>Capacity</th>\n",
       "      <th>Day</th>\n",
       "      <th>Full</th>\n",
       "      <th>Gross</th>\n",
       "      <th>Gross Potential</th>\n",
       "      <th>Month</th>\n",
       "      <th>Name</th>\n",
       "      <th>Performances</th>\n",
       "      <th>Theatre</th>\n",
       "      <th>Type</th>\n",
       "      <th>Year</th>\n",
       "    </tr>\n",
       "  </thead>\n",
       "  <tbody>\n",
       "    <tr>\n",
       "      <th>0</th>\n",
       "      <td>5500</td>\n",
       "      <td>88</td>\n",
       "      <td>26</td>\n",
       "      <td>08/26/1990</td>\n",
       "      <td>134456</td>\n",
       "      <td>0</td>\n",
       "      <td>8</td>\n",
       "      <td>Tru</td>\n",
       "      <td>8</td>\n",
       "      <td>Booth</td>\n",
       "      <td>Play</td>\n",
       "      <td>1990</td>\n",
       "    </tr>\n",
       "    <tr>\n",
       "      <th>1</th>\n",
       "      <td>1737</td>\n",
       "      <td>100</td>\n",
       "      <td>24</td>\n",
       "      <td>03/24/1991</td>\n",
       "      <td>100647</td>\n",
       "      <td>0</td>\n",
       "      <td>3</td>\n",
       "      <td>Miss Saigon</td>\n",
       "      <td>0</td>\n",
       "      <td>Broadway</td>\n",
       "      <td>Musical</td>\n",
       "      <td>1991</td>\n",
       "    </tr>\n",
       "    <tr>\n",
       "      <th>2</th>\n",
       "      <td>12160</td>\n",
       "      <td>100</td>\n",
       "      <td>31</td>\n",
       "      <td>03/31/1991</td>\n",
       "      <td>634424</td>\n",
       "      <td>0</td>\n",
       "      <td>3</td>\n",
       "      <td>Miss Saigon</td>\n",
       "      <td>0</td>\n",
       "      <td>Broadway</td>\n",
       "      <td>Musical</td>\n",
       "      <td>1991</td>\n",
       "    </tr>\n",
       "    <tr>\n",
       "      <th>3</th>\n",
       "      <td>13921</td>\n",
       "      <td>100</td>\n",
       "      <td>7</td>\n",
       "      <td>04/07/1991</td>\n",
       "      <td>713353</td>\n",
       "      <td>0</td>\n",
       "      <td>4</td>\n",
       "      <td>Miss Saigon</td>\n",
       "      <td>0</td>\n",
       "      <td>Broadway</td>\n",
       "      <td>Musical</td>\n",
       "      <td>1991</td>\n",
       "    </tr>\n",
       "    <tr>\n",
       "      <th>4</th>\n",
       "      <td>10973</td>\n",
       "      <td>90</td>\n",
       "      <td>14</td>\n",
       "      <td>04/14/1991</td>\n",
       "      <td>573981</td>\n",
       "      <td>0</td>\n",
       "      <td>4</td>\n",
       "      <td>Miss Saigon</td>\n",
       "      <td>4</td>\n",
       "      <td>Broadway</td>\n",
       "      <td>Musical</td>\n",
       "      <td>1991</td>\n",
       "    </tr>\n",
       "    <tr>\n",
       "      <th>...</th>\n",
       "      <td>...</td>\n",
       "      <td>...</td>\n",
       "      <td>...</td>\n",
       "      <td>...</td>\n",
       "      <td>...</td>\n",
       "      <td>...</td>\n",
       "      <td>...</td>\n",
       "      <td>...</td>\n",
       "      <td>...</td>\n",
       "      <td>...</td>\n",
       "      <td>...</td>\n",
       "      <td>...</td>\n",
       "    </tr>\n",
       "    <tr>\n",
       "      <th>5973</th>\n",
       "      <td>10128</td>\n",
       "      <td>79</td>\n",
       "      <td>26</td>\n",
       "      <td>12/26/1999</td>\n",
       "      <td>715999</td>\n",
       "      <td>82</td>\n",
       "      <td>12</td>\n",
       "      <td>The Phantom Of The Opera</td>\n",
       "      <td>8</td>\n",
       "      <td>Majestic</td>\n",
       "      <td>Musical</td>\n",
       "      <td>1999</td>\n",
       "    </tr>\n",
       "    <tr>\n",
       "      <th>5974</th>\n",
       "      <td>2939</td>\n",
       "      <td>34</td>\n",
       "      <td>26</td>\n",
       "      <td>12/26/1999</td>\n",
       "      <td>118985</td>\n",
       "      <td>27</td>\n",
       "      <td>12</td>\n",
       "      <td>The Price 99</td>\n",
       "      <td>8</td>\n",
       "      <td>Royale</td>\n",
       "      <td>Play</td>\n",
       "      <td>1999</td>\n",
       "    </tr>\n",
       "    <tr>\n",
       "      <th>5975</th>\n",
       "      <td>5028</td>\n",
       "      <td>63</td>\n",
       "      <td>26</td>\n",
       "      <td>12/26/1999</td>\n",
       "      <td>183612</td>\n",
       "      <td>56</td>\n",
       "      <td>12</td>\n",
       "      <td>The Rainmaker</td>\n",
       "      <td>8</td>\n",
       "      <td>Brooks Atkinson</td>\n",
       "      <td>Play</td>\n",
       "      <td>1999</td>\n",
       "    </tr>\n",
       "    <tr>\n",
       "      <th>5976</th>\n",
       "      <td>3673</td>\n",
       "      <td>34</td>\n",
       "      <td>26</td>\n",
       "      <td>12/26/1999</td>\n",
       "      <td>195192</td>\n",
       "      <td>29</td>\n",
       "      <td>12</td>\n",
       "      <td>The Scarlet Pimpernel</td>\n",
       "      <td>8</td>\n",
       "      <td>Neil Simon</td>\n",
       "      <td>Musical</td>\n",
       "      <td>1999</td>\n",
       "    </tr>\n",
       "    <tr>\n",
       "      <th>5977</th>\n",
       "      <td>3817</td>\n",
       "      <td>50</td>\n",
       "      <td>26</td>\n",
       "      <td>12/26/1999</td>\n",
       "      <td>243125</td>\n",
       "      <td>54</td>\n",
       "      <td>12</td>\n",
       "      <td>Waiting In The Wings</td>\n",
       "      <td>8</td>\n",
       "      <td>Walter Kerr</td>\n",
       "      <td>Play</td>\n",
       "      <td>1999</td>\n",
       "    </tr>\n",
       "  </tbody>\n",
       "</table>\n",
       "<p>5978 rows × 12 columns</p>\n",
       "</div>"
      ],
      "text/plain": [
       "      Attendance  Capacity  Day        Full   Gross  Gross Potential  Month  \\\n",
       "0           5500        88   26  08/26/1990  134456                0      8   \n",
       "1           1737       100   24  03/24/1991  100647                0      3   \n",
       "2          12160       100   31  03/31/1991  634424                0      3   \n",
       "3          13921       100    7  04/07/1991  713353                0      4   \n",
       "4          10973        90   14  04/14/1991  573981                0      4   \n",
       "...          ...       ...  ...         ...     ...              ...    ...   \n",
       "5973       10128        79   26  12/26/1999  715999               82     12   \n",
       "5974        2939        34   26  12/26/1999  118985               27     12   \n",
       "5975        5028        63   26  12/26/1999  183612               56     12   \n",
       "5976        3673        34   26  12/26/1999  195192               29     12   \n",
       "5977        3817        50   26  12/26/1999  243125               54     12   \n",
       "\n",
       "                          Name  Performances          Theatre     Type  Year  \n",
       "0                          Tru             8            Booth     Play  1990  \n",
       "1                  Miss Saigon             0         Broadway  Musical  1991  \n",
       "2                  Miss Saigon             0         Broadway  Musical  1991  \n",
       "3                  Miss Saigon             0         Broadway  Musical  1991  \n",
       "4                  Miss Saigon             4         Broadway  Musical  1991  \n",
       "...                        ...           ...              ...      ...   ...  \n",
       "5973  The Phantom Of The Opera             8         Majestic  Musical  1999  \n",
       "5974              The Price 99             8           Royale     Play  1999  \n",
       "5975             The Rainmaker             8  Brooks Atkinson     Play  1999  \n",
       "5976     The Scarlet Pimpernel             8       Neil Simon  Musical  1999  \n",
       "5977      Waiting In The Wings             8      Walter Kerr     Play  1999  \n",
       "\n",
       "[5978 rows x 12 columns]"
      ]
     },
     "execution_count": 33,
     "metadata": {},
     "output_type": "execute_result"
    }
   ],
   "source": [
    "# Similarly, we can use other booleans like <, >.\n",
    "# We can look at the all the Broadway shows before the 2000s:\n",
    "\n",
    "shows_90s = broadway[broadway.Year < 2000]\n",
    "shows_90s"
   ]
  },
  {
   "cell_type": "code",
   "execution_count": 35,
   "metadata": {},
   "outputs": [
    {
     "data": {
      "text/html": [
       "<div>\n",
       "<style scoped>\n",
       "    .dataframe tbody tr th:only-of-type {\n",
       "        vertical-align: middle;\n",
       "    }\n",
       "\n",
       "    .dataframe tbody tr th {\n",
       "        vertical-align: top;\n",
       "    }\n",
       "\n",
       "    .dataframe thead th {\n",
       "        text-align: right;\n",
       "    }\n",
       "</style>\n",
       "<table border=\"1\" class=\"dataframe\">\n",
       "  <thead>\n",
       "    <tr style=\"text-align: right;\">\n",
       "      <th></th>\n",
       "      <th>Attendance</th>\n",
       "      <th>Capacity</th>\n",
       "      <th>Day</th>\n",
       "      <th>Full</th>\n",
       "      <th>Gross</th>\n",
       "      <th>Gross Potential</th>\n",
       "      <th>Month</th>\n",
       "      <th>Name</th>\n",
       "      <th>Performances</th>\n",
       "      <th>Theatre</th>\n",
       "      <th>Type</th>\n",
       "      <th>Year</th>\n",
       "    </tr>\n",
       "  </thead>\n",
       "  <tbody>\n",
       "    <tr>\n",
       "      <th>26997</th>\n",
       "      <td>17352</td>\n",
       "      <td>100</td>\n",
       "      <td>29</td>\n",
       "      <td>12/29/2013</td>\n",
       "      <td>3201333</td>\n",
       "      <td>121</td>\n",
       "      <td>12</td>\n",
       "      <td>Wicked</td>\n",
       "      <td>9</td>\n",
       "      <td>Gershwin</td>\n",
       "      <td>Musical</td>\n",
       "      <td>2013</td>\n",
       "    </tr>\n",
       "    <tr>\n",
       "      <th>25603</th>\n",
       "      <td>16281</td>\n",
       "      <td>100</td>\n",
       "      <td>30</td>\n",
       "      <td>12/30/2012</td>\n",
       "      <td>2947172</td>\n",
       "      <td>156</td>\n",
       "      <td>12</td>\n",
       "      <td>Wicked</td>\n",
       "      <td>9</td>\n",
       "      <td>Gershwin</td>\n",
       "      <td>Musical</td>\n",
       "      <td>2012</td>\n",
       "    </tr>\n",
       "    <tr>\n",
       "      <th>24057</th>\n",
       "      <td>17375</td>\n",
       "      <td>100</td>\n",
       "      <td>1</td>\n",
       "      <td>01/01/2012</td>\n",
       "      <td>2941794</td>\n",
       "      <td>133</td>\n",
       "      <td>1</td>\n",
       "      <td>Spider-Man Turn Off The Dark</td>\n",
       "      <td>9</td>\n",
       "      <td>Foxwoods</td>\n",
       "      <td>Musical</td>\n",
       "      <td>2012</td>\n",
       "    </tr>\n",
       "    <tr>\n",
       "      <th>30261</th>\n",
       "      <td>17119</td>\n",
       "      <td>99</td>\n",
       "      <td>3</td>\n",
       "      <td>01/03/2016</td>\n",
       "      <td>2940096</td>\n",
       "      <td>147</td>\n",
       "      <td>1</td>\n",
       "      <td>Wicked</td>\n",
       "      <td>9</td>\n",
       "      <td>Gershwin</td>\n",
       "      <td>Musical</td>\n",
       "      <td>2016</td>\n",
       "    </tr>\n",
       "    <tr>\n",
       "      <th>28626</th>\n",
       "      <td>16257</td>\n",
       "      <td>100</td>\n",
       "      <td>28</td>\n",
       "      <td>12/28/2014</td>\n",
       "      <td>2903309</td>\n",
       "      <td>154</td>\n",
       "      <td>12</td>\n",
       "      <td>Wicked</td>\n",
       "      <td>9</td>\n",
       "      <td>Gershwin</td>\n",
       "      <td>Musical</td>\n",
       "      <td>2014</td>\n",
       "    </tr>\n",
       "    <tr>\n",
       "      <th>...</th>\n",
       "      <td>...</td>\n",
       "      <td>...</td>\n",
       "      <td>...</td>\n",
       "      <td>...</td>\n",
       "      <td>...</td>\n",
       "      <td>...</td>\n",
       "      <td>...</td>\n",
       "      <td>...</td>\n",
       "      <td>...</td>\n",
       "      <td>...</td>\n",
       "      <td>...</td>\n",
       "      <td>...</td>\n",
       "    </tr>\n",
       "    <tr>\n",
       "      <th>13023</th>\n",
       "      <td>73</td>\n",
       "      <td>10</td>\n",
       "      <td>3</td>\n",
       "      <td>10/03/2004</td>\n",
       "      <td>3668</td>\n",
       "      <td>10</td>\n",
       "      <td>10</td>\n",
       "      <td>Marc Salem'S Mind Games</td>\n",
       "      <td>1</td>\n",
       "      <td>Lyceum</td>\n",
       "      <td>Special</td>\n",
       "      <td>2004</td>\n",
       "    </tr>\n",
       "    <tr>\n",
       "      <th>11749</th>\n",
       "      <td>49</td>\n",
       "      <td>448</td>\n",
       "      <td>23</td>\n",
       "      <td>11/23/2003</td>\n",
       "      <td>2478</td>\n",
       "      <td>4</td>\n",
       "      <td>11</td>\n",
       "      <td>Oldest Living Confederate Widow Tells All</td>\n",
       "      <td>1</td>\n",
       "      <td>Longacre</td>\n",
       "      <td>Play</td>\n",
       "      <td>2003</td>\n",
       "    </tr>\n",
       "    <tr>\n",
       "      <th>12541</th>\n",
       "      <td>51</td>\n",
       "      <td>716</td>\n",
       "      <td>30</td>\n",
       "      <td>05/30/2004</td>\n",
       "      <td>1929</td>\n",
       "      <td>5</td>\n",
       "      <td>5</td>\n",
       "      <td>Marc Salem'S Mind Games</td>\n",
       "      <td>1</td>\n",
       "      <td>Lyceum</td>\n",
       "      <td>Special</td>\n",
       "      <td>2004</td>\n",
       "    </tr>\n",
       "    <tr>\n",
       "      <th>4225</th>\n",
       "      <td>75</td>\n",
       "      <td>747</td>\n",
       "      <td>25</td>\n",
       "      <td>10/25/1998</td>\n",
       "      <td>1648</td>\n",
       "      <td>5</td>\n",
       "      <td>10</td>\n",
       "      <td>A Mom'S Life</td>\n",
       "      <td>1</td>\n",
       "      <td>Belasco</td>\n",
       "      <td>Special</td>\n",
       "      <td>1998</td>\n",
       "    </tr>\n",
       "    <tr>\n",
       "      <th>12509</th>\n",
       "      <td>24</td>\n",
       "      <td>337</td>\n",
       "      <td>23</td>\n",
       "      <td>05/23/2004</td>\n",
       "      <td>1037</td>\n",
       "      <td>3</td>\n",
       "      <td>5</td>\n",
       "      <td>Marc Salem'S Mind Games</td>\n",
       "      <td>0</td>\n",
       "      <td>Lyceum</td>\n",
       "      <td>Special</td>\n",
       "      <td>2004</td>\n",
       "    </tr>\n",
       "  </tbody>\n",
       "</table>\n",
       "<p>31296 rows × 12 columns</p>\n",
       "</div>"
      ],
      "text/plain": [
       "       Attendance  Capacity  Day        Full    Gross  Gross Potential  Month  \\\n",
       "26997       17352       100   29  12/29/2013  3201333              121     12   \n",
       "25603       16281       100   30  12/30/2012  2947172              156     12   \n",
       "24057       17375       100    1  01/01/2012  2941794              133      1   \n",
       "30261       17119        99    3  01/03/2016  2940096              147      1   \n",
       "28626       16257       100   28  12/28/2014  2903309              154     12   \n",
       "...           ...       ...  ...         ...      ...              ...    ...   \n",
       "13023          73        10    3  10/03/2004     3668               10     10   \n",
       "11749          49       448   23  11/23/2003     2478                4     11   \n",
       "12541          51       716   30  05/30/2004     1929                5      5   \n",
       "4225           75       747   25  10/25/1998     1648                5     10   \n",
       "12509          24       337   23  05/23/2004     1037                3      5   \n",
       "\n",
       "                                            Name  Performances   Theatre  \\\n",
       "26997                                     Wicked             9  Gershwin   \n",
       "25603                                     Wicked             9  Gershwin   \n",
       "24057               Spider-Man Turn Off The Dark             9  Foxwoods   \n",
       "30261                                     Wicked             9  Gershwin   \n",
       "28626                                     Wicked             9  Gershwin   \n",
       "...                                          ...           ...       ...   \n",
       "13023                    Marc Salem'S Mind Games             1    Lyceum   \n",
       "11749  Oldest Living Confederate Widow Tells All             1  Longacre   \n",
       "12541                    Marc Salem'S Mind Games             1    Lyceum   \n",
       "4225                                A Mom'S Life             1   Belasco   \n",
       "12509                    Marc Salem'S Mind Games             0    Lyceum   \n",
       "\n",
       "          Type  Year  \n",
       "26997  Musical  2013  \n",
       "25603  Musical  2012  \n",
       "24057  Musical  2012  \n",
       "30261  Musical  2016  \n",
       "28626  Musical  2014  \n",
       "...        ...   ...  \n",
       "13023  Special  2004  \n",
       "11749     Play  2003  \n",
       "12541  Special  2004  \n",
       "4225   Special  1998  \n",
       "12509  Special  2004  \n",
       "\n",
       "[31296 rows x 12 columns]"
      ]
     },
     "execution_count": 35,
     "metadata": {},
     "output_type": "execute_result"
    }
   ],
   "source": [
    "# Finally, we can also sort a table by a certain column. This can be really helpful for understanding a dataset!\n",
    "# For example, we can sort by Gross revenue:\n",
    "\n",
    "money = broadway.sort_values(by = 'Gross', ascending = False)\n",
    "money"
   ]
  },
  {
   "cell_type": "markdown",
   "metadata": {},
   "source": [
    "**What are some interesting takeaways from the previous table?**"
   ]
  },
  {
   "cell_type": "markdown",
   "metadata": {},
   "source": [
    "<div class=\"alert alert-success\" style=\"font-size:120%\">\n",
    "<b>YOUR TURN</b>: <br>\n",
    "Ask a question about this dataset that you can solve using the commands we've learned above.\n",
    "</div>"
   ]
  },
  {
   "cell_type": "code",
   "execution_count": null,
   "metadata": {},
   "outputs": [],
   "source": [
    "### YOUR CODE HERE ###\n",
    "\n"
   ]
  },
  {
   "cell_type": "markdown",
   "metadata": {},
   "source": [
    "**How to know what data type are we talking about?**"
   ]
  },
  {
   "cell_type": "code",
   "execution_count": 37,
   "metadata": {},
   "outputs": [
    {
     "data": {
      "text/plain": [
       "['I', 'am', 'not', 'throwing', 'away', 'my', 'shot']"
      ]
     },
     "execution_count": 37,
     "metadata": {},
     "output_type": "execute_result"
    }
   ],
   "source": [
    "lyrics"
   ]
  },
  {
   "cell_type": "code",
   "execution_count": 21,
   "metadata": {},
   "outputs": [
    {
     "data": {
      "text/plain": [
       "list"
      ]
     },
     "execution_count": 21,
     "metadata": {},
     "output_type": "execute_result"
    }
   ],
   "source": [
    "type(lyrics)"
   ]
  },
  {
   "cell_type": "code",
   "execution_count": 38,
   "metadata": {},
   "outputs": [
    {
     "data": {
      "text/plain": [
       "'CP101'"
      ]
     },
     "execution_count": 38,
     "metadata": {},
     "output_type": "execute_result"
    }
   ],
   "source": [
    "\"CP101\""
   ]
  },
  {
   "cell_type": "code",
   "execution_count": 22,
   "metadata": {},
   "outputs": [
    {
     "data": {
      "text/plain": [
       "str"
      ]
     },
     "execution_count": 22,
     "metadata": {},
     "output_type": "execute_result"
    }
   ],
   "source": [
    "type(\"CP101\")"
   ]
  },
  {
   "cell_type": "code",
   "execution_count": 39,
   "metadata": {},
   "outputs": [
    {
     "data": {
      "text/html": [
       "<div>\n",
       "<style scoped>\n",
       "    .dataframe tbody tr th:only-of-type {\n",
       "        vertical-align: middle;\n",
       "    }\n",
       "\n",
       "    .dataframe tbody tr th {\n",
       "        vertical-align: top;\n",
       "    }\n",
       "\n",
       "    .dataframe thead th {\n",
       "        text-align: right;\n",
       "    }\n",
       "</style>\n",
       "<table border=\"1\" class=\"dataframe\">\n",
       "  <thead>\n",
       "    <tr style=\"text-align: right;\">\n",
       "      <th></th>\n",
       "      <th>Attendance</th>\n",
       "      <th>Capacity</th>\n",
       "      <th>Day</th>\n",
       "      <th>Full</th>\n",
       "      <th>Gross</th>\n",
       "      <th>Gross Potential</th>\n",
       "      <th>Month</th>\n",
       "      <th>Name</th>\n",
       "      <th>Performances</th>\n",
       "      <th>Theatre</th>\n",
       "      <th>Type</th>\n",
       "      <th>Year</th>\n",
       "    </tr>\n",
       "  </thead>\n",
       "  <tbody>\n",
       "    <tr>\n",
       "      <th>0</th>\n",
       "      <td>5500</td>\n",
       "      <td>88</td>\n",
       "      <td>26</td>\n",
       "      <td>08/26/1990</td>\n",
       "      <td>134456</td>\n",
       "      <td>0</td>\n",
       "      <td>8</td>\n",
       "      <td>Tru</td>\n",
       "      <td>8</td>\n",
       "      <td>Booth</td>\n",
       "      <td>Play</td>\n",
       "      <td>1990</td>\n",
       "    </tr>\n",
       "    <tr>\n",
       "      <th>1</th>\n",
       "      <td>1737</td>\n",
       "      <td>100</td>\n",
       "      <td>24</td>\n",
       "      <td>03/24/1991</td>\n",
       "      <td>100647</td>\n",
       "      <td>0</td>\n",
       "      <td>3</td>\n",
       "      <td>Miss Saigon</td>\n",
       "      <td>0</td>\n",
       "      <td>Broadway</td>\n",
       "      <td>Musical</td>\n",
       "      <td>1991</td>\n",
       "    </tr>\n",
       "    <tr>\n",
       "      <th>2</th>\n",
       "      <td>12160</td>\n",
       "      <td>100</td>\n",
       "      <td>31</td>\n",
       "      <td>03/31/1991</td>\n",
       "      <td>634424</td>\n",
       "      <td>0</td>\n",
       "      <td>3</td>\n",
       "      <td>Miss Saigon</td>\n",
       "      <td>0</td>\n",
       "      <td>Broadway</td>\n",
       "      <td>Musical</td>\n",
       "      <td>1991</td>\n",
       "    </tr>\n",
       "    <tr>\n",
       "      <th>3</th>\n",
       "      <td>13921</td>\n",
       "      <td>100</td>\n",
       "      <td>7</td>\n",
       "      <td>04/07/1991</td>\n",
       "      <td>713353</td>\n",
       "      <td>0</td>\n",
       "      <td>4</td>\n",
       "      <td>Miss Saigon</td>\n",
       "      <td>0</td>\n",
       "      <td>Broadway</td>\n",
       "      <td>Musical</td>\n",
       "      <td>1991</td>\n",
       "    </tr>\n",
       "    <tr>\n",
       "      <th>4</th>\n",
       "      <td>10973</td>\n",
       "      <td>90</td>\n",
       "      <td>14</td>\n",
       "      <td>04/14/1991</td>\n",
       "      <td>573981</td>\n",
       "      <td>0</td>\n",
       "      <td>4</td>\n",
       "      <td>Miss Saigon</td>\n",
       "      <td>4</td>\n",
       "      <td>Broadway</td>\n",
       "      <td>Musical</td>\n",
       "      <td>1991</td>\n",
       "    </tr>\n",
       "  </tbody>\n",
       "</table>\n",
       "</div>"
      ],
      "text/plain": [
       "   Attendance  Capacity  Day        Full   Gross  Gross Potential  Month  \\\n",
       "0        5500        88   26  08/26/1990  134456                0      8   \n",
       "1        1737       100   24  03/24/1991  100647                0      3   \n",
       "2       12160       100   31  03/31/1991  634424                0      3   \n",
       "3       13921       100    7  04/07/1991  713353                0      4   \n",
       "4       10973        90   14  04/14/1991  573981                0      4   \n",
       "\n",
       "          Name  Performances   Theatre     Type  Year  \n",
       "0          Tru             8     Booth     Play  1990  \n",
       "1  Miss Saigon             0  Broadway  Musical  1991  \n",
       "2  Miss Saigon             0  Broadway  Musical  1991  \n",
       "3  Miss Saigon             0  Broadway  Musical  1991  \n",
       "4  Miss Saigon             4  Broadway  Musical  1991  "
      ]
     },
     "execution_count": 39,
     "metadata": {},
     "output_type": "execute_result"
    }
   ],
   "source": [
    "broadway.head()"
   ]
  },
  {
   "cell_type": "code",
   "execution_count": 26,
   "metadata": {},
   "outputs": [
    {
     "data": {
      "text/plain": [
       "pandas.core.frame.DataFrame"
      ]
     },
     "execution_count": 26,
     "metadata": {},
     "output_type": "execute_result"
    }
   ],
   "source": [
    "type(broadway)"
   ]
  },
  {
   "cell_type": "code",
   "execution_count": 27,
   "metadata": {},
   "outputs": [
    {
     "data": {
      "text/plain": [
       "int"
      ]
     },
     "execution_count": 27,
     "metadata": {},
     "output_type": "execute_result"
    }
   ],
   "source": [
    "type(5)"
   ]
  },
  {
   "cell_type": "code",
   "execution_count": 28,
   "metadata": {},
   "outputs": [
    {
     "data": {
      "text/plain": [
       "float"
      ]
     },
     "execution_count": 28,
     "metadata": {},
     "output_type": "execute_result"
    }
   ],
   "source": [
    "type(5.4)"
   ]
  },
  {
   "cell_type": "code",
   "execution_count": 35,
   "metadata": {},
   "outputs": [
    {
     "data": {
      "text/plain": [
       "pandas.core.series.Series"
      ]
     },
     "execution_count": 35,
     "metadata": {},
     "output_type": "execute_result"
    }
   ],
   "source": [
    "type(broadway['Name'])"
   ]
  },
  {
   "cell_type": "code",
   "execution_count": 36,
   "metadata": {},
   "outputs": [
    {
     "data": {
      "text/plain": [
       "str"
      ]
     },
     "execution_count": 36,
     "metadata": {},
     "output_type": "execute_result"
    }
   ],
   "source": [
    "type(broadway['Name'][0])"
   ]
  },
  {
   "cell_type": "markdown",
   "metadata": {},
   "source": [
    "## <font color='red'>3. Functions"
   ]
  },
  {
   "cell_type": "markdown",
   "metadata": {},
   "source": [
    "Although Python doesn't have a lot of functions and methods by itself, it is not like it doesn't have any. Let's go over some of the most valuable built-in funsctions in Python."
   ]
  },
  {
   "cell_type": "code",
   "execution_count": 9,
   "metadata": {},
   "outputs": [
    {
     "data": {
      "text/plain": [
       "1"
      ]
     },
     "execution_count": 9,
     "metadata": {},
     "output_type": "execute_result"
    }
   ],
   "source": [
    "min(1, 3)"
   ]
  },
  {
   "cell_type": "code",
   "execution_count": 10,
   "metadata": {},
   "outputs": [
    {
     "data": {
      "text/plain": [
       "70"
      ]
     },
     "execution_count": 10,
     "metadata": {},
     "output_type": "execute_result"
    }
   ],
   "source": [
    "max(15, 25, 70)"
   ]
  },
  {
   "cell_type": "markdown",
   "metadata": {},
   "source": [
    "You can also use these functions with strings. Can you guess what the output will be?"
   ]
  },
  {
   "cell_type": "code",
   "execution_count": 11,
   "metadata": {},
   "outputs": [
    {
     "data": {
      "text/plain": [
       "'Washington'"
      ]
     },
     "execution_count": 11,
     "metadata": {},
     "output_type": "execute_result"
    }
   ],
   "source": [
    "max(\"Hamilton\", \"Washington\")"
   ]
  },
  {
   "cell_type": "markdown",
   "metadata": {},
   "source": [
    "So does Python know that George Washington was older than Alexander Hamilton? Of course not, when comparing strings, Python goes of off the letters of alphabet. Since \"W\" goes after \"H\" in the alphabet, \"Washington\" is a value that is \"bigger\" than \"Hamilton\"."
   ]
  },
  {
   "cell_type": "markdown",
   "metadata": {},
   "source": [
    "We have created two lists with different integers. Let's now find the biggest number among the two smallest numbers in two lists. In other words, let's find the max( ) of the two min( ). You can achieve it with either 3 or 1 lines of code."
   ]
  },
  {
   "cell_type": "code",
   "execution_count": null,
   "metadata": {},
   "outputs": [],
   "source": [
    "dob = [1757, 1756, 1732, 1737, 1754]\n",
    "dod = [1804, 1836, 1799, 1793, 1782] \n",
    "\n",
    "##fill in\n",
    "min_dob = ...\n",
    "min_dod = ...\n",
    "max_of_mins = ...\n",
    "\n",
    "\n",
    "# you can do it in one line\n",
    "\n",
    "max_mins = max(min(), min())"
   ]
  },
  {
   "cell_type": "markdown",
   "metadata": {},
   "source": [
    "Another valuable function you can use with your numerals is \"round\". It will round your floats to the nearest integer. Like so:"
   ]
  },
  {
   "cell_type": "code",
   "execution_count": null,
   "metadata": {},
   "outputs": [],
   "source": [
    "round(8.7)"
   ]
  },
  {
   "cell_type": "markdown",
   "metadata": {},
   "source": [
    "Another useful function we can use with numbers is \"abs\". It outputs an absolute value of a number:"
   ]
  },
  {
   "cell_type": "code",
   "execution_count": null,
   "metadata": {},
   "outputs": [],
   "source": [
    "abs(-3.5)"
   ]
  },
  {
   "cell_type": "markdown",
   "metadata": {},
   "source": [
    "## <font color='red'>4. Margins of Error (MoEs) in Python"
   ]
  },
  {
   "cell_type": "markdown",
   "metadata": {},
   "source": [
    "It often makes sense to congregate census categories. For example, in the Excel sheet “Ages” in the workbook “Lab4Data.xlsx” you will find the education information for Census Tract 4004. The information separates the population into 6 age categories. This may be more than we need for the purposes of our analysis, so we are going to consolidate the information into three categories, “Child”, “Working Age Adult”, and “Senior Adult”."
   ]
  },
  {
   "cell_type": "markdown",
   "metadata": {},
   "source": [
    "Here is the data we'll be loading in. Don't worry too much about this code—we are importing data from an Excel spreadsheet into a Pandas DataFrame, and then dropping some redundant columns."
   ]
  },
  {
   "cell_type": "code",
   "execution_count": 27,
   "metadata": {},
   "outputs": [
    {
     "data": {
      "text/html": [
       "<div>\n",
       "<style scoped>\n",
       "    .dataframe tbody tr th:only-of-type {\n",
       "        vertical-align: middle;\n",
       "    }\n",
       "\n",
       "    .dataframe tbody tr th {\n",
       "        vertical-align: top;\n",
       "    }\n",
       "\n",
       "    .dataframe thead th {\n",
       "        text-align: right;\n",
       "    }\n",
       "</style>\n",
       "<table border=\"1\" class=\"dataframe\">\n",
       "  <thead>\n",
       "    <tr style=\"text-align: right;\">\n",
       "      <th></th>\n",
       "      <th>AGE</th>\n",
       "      <th>Estimate</th>\n",
       "      <th>Margin of Error</th>\n",
       "    </tr>\n",
       "  </thead>\n",
       "  <tbody>\n",
       "    <tr>\n",
       "      <th>0</th>\n",
       "      <td>Under 5 years</td>\n",
       "      <td>257</td>\n",
       "      <td>+/-101</td>\n",
       "    </tr>\n",
       "    <tr>\n",
       "      <th>1</th>\n",
       "      <td>5 to 17 years</td>\n",
       "      <td>421</td>\n",
       "      <td>+/-125</td>\n",
       "    </tr>\n",
       "    <tr>\n",
       "      <th>2</th>\n",
       "      <td>18 to 34 years</td>\n",
       "      <td>1241</td>\n",
       "      <td>+/-204</td>\n",
       "    </tr>\n",
       "    <tr>\n",
       "      <th>3</th>\n",
       "      <td>35 to 64 years</td>\n",
       "      <td>1569</td>\n",
       "      <td>+/-140</td>\n",
       "    </tr>\n",
       "    <tr>\n",
       "      <th>4</th>\n",
       "      <td>65 to 74 years</td>\n",
       "      <td>329</td>\n",
       "      <td>+/-77</td>\n",
       "    </tr>\n",
       "    <tr>\n",
       "      <th>5</th>\n",
       "      <td>75 years and over</td>\n",
       "      <td>169</td>\n",
       "      <td>+/-59</td>\n",
       "    </tr>\n",
       "  </tbody>\n",
       "</table>\n",
       "</div>"
      ],
      "text/plain": [
       "                   AGE  Estimate Margin of Error\n",
       "0        Under 5 years       257          +/-101\n",
       "1        5 to 17 years       421          +/-125\n",
       "2       18 to 34 years      1241          +/-204\n",
       "3       35 to 64 years      1569          +/-140\n",
       "4       65 to 74 years       329           +/-77\n",
       "5    75 years and over       169           +/-59"
      ]
     },
     "execution_count": 27,
     "metadata": {},
     "output_type": "execute_result"
    }
   ],
   "source": [
    "data = pd.read_excel('Lab4Data.xlsx')\n",
    "data = data.drop(columns = data.columns[[1, 3, 4]])\n",
    "data"
   ]
  },
  {
   "cell_type": "markdown",
   "metadata": {},
   "source": [
    "### Aggregating Age"
   ]
  },
  {
   "cell_type": "markdown",
   "metadata": {},
   "source": [
    "Let’s create a new column for each of our new categories, and a column for our new categories’ MOEs. Then let’s congregate our categories by summing estimates across categories. “Child” will include “Under 5 years” and “5 to 17 years”. “Working Age Adult” will include “18 to 34 years” and “35 to 64 years”. “Senior Adult” will include “65 to 74 years” and “75 years and over”."
   ]
  },
  {
   "cell_type": "code",
   "execution_count": 29,
   "metadata": {},
   "outputs": [
    {
     "data": {
      "text/html": [
       "<div>\n",
       "<style scoped>\n",
       "    .dataframe tbody tr th:only-of-type {\n",
       "        vertical-align: middle;\n",
       "    }\n",
       "\n",
       "    .dataframe tbody tr th {\n",
       "        vertical-align: top;\n",
       "    }\n",
       "\n",
       "    .dataframe thead th {\n",
       "        text-align: right;\n",
       "    }\n",
       "</style>\n",
       "<table border=\"1\" class=\"dataframe\">\n",
       "  <thead>\n",
       "    <tr style=\"text-align: right;\">\n",
       "      <th></th>\n",
       "      <th>Age Categories</th>\n",
       "      <th>Estimate</th>\n",
       "    </tr>\n",
       "  </thead>\n",
       "  <tbody>\n",
       "    <tr>\n",
       "      <th>0</th>\n",
       "      <td>Child</td>\n",
       "      <td>678</td>\n",
       "    </tr>\n",
       "    <tr>\n",
       "      <th>1</th>\n",
       "      <td>Working Age Adult</td>\n",
       "      <td>2810</td>\n",
       "    </tr>\n",
       "    <tr>\n",
       "      <th>2</th>\n",
       "      <td>Senior Adult</td>\n",
       "      <td>498</td>\n",
       "    </tr>\n",
       "  </tbody>\n",
       "</table>\n",
       "</div>"
      ],
      "text/plain": [
       "      Age Categories  Estimate\n",
       "0              Child       678\n",
       "1  Working Age Adult      2810\n",
       "2       Senior Adult       498"
      ]
     },
     "execution_count": 29,
     "metadata": {},
     "output_type": "execute_result"
    }
   ],
   "source": [
    "# To do this, lets make a new data frame:\n",
    "aggregated = pd.DataFrame()\n",
    "aggregated['Age Categories'] = ['Child', 'Working Age Adult', 'Senior Adult']\n",
    "aggregated['Estimate'] = [sum(data.Estimate[0:2]), sum(data.Estimate[2:4]), sum(data.Estimate[4:])]\n",
    "aggregated"
   ]
  },
  {
   "cell_type": "markdown",
   "metadata": {},
   "source": [
    "### Aggregating Margins of Error"
   ]
  },
  {
   "cell_type": "markdown",
   "metadata": {},
   "source": [
    "To calculate the MOE for aggregated count data:\n",
    "1. Obtain the MOE of each individual estimate.\n",
    "2. Square the MOE of each estimate.\n",
    "3. Sum the squared MOEs.\n",
    "4. Take the square root of the sum of the squared MOEs."
   ]
  },
  {
   "cell_type": "markdown",
   "metadata": {},
   "source": [
    "We've written a function called `MOE` that does these steps for us. Make sure you understand how it works!"
   ]
  },
  {
   "cell_type": "code",
   "execution_count": 31,
   "metadata": {},
   "outputs": [],
   "source": [
    "# this is a function to calculate MOE\n",
    "\n",
    "def MOE(arr):\n",
    "    sq = arr**2\n",
    "    return np.sqrt(sum(sq))"
   ]
  },
  {
   "cell_type": "markdown",
   "metadata": {},
   "source": [
    "We can apply the function specifically on the rows corresponding to the \"Child\" age group, which are the first two rows of our `data`. Remember that when slicing lists, and arrays, the second term is exclusive."
   ]
  },
  {
   "cell_type": "code",
   "execution_count": 33,
   "metadata": {},
   "outputs": [
    {
     "data": {
      "text/plain": [
       "493.24436134638177"
      ]
     },
     "execution_count": 33,
     "metadata": {},
     "output_type": "execute_result"
    }
   ],
   "source": [
    "# Apply the function above on an array of MOE's you want to aggregate\n",
    "# For example: age group Child.\n",
    "\n",
    "agg_moe_child = MOE(data['Estimate'][0:2])\n",
    "agg_moe_child"
   ]
  },
  {
   "cell_type": "markdown",
   "metadata": {},
   "source": [
    "Now, do the same for the \"Working Age Adult\" and \"Senior Adult\" categories!"
   ]
  },
  {
   "cell_type": "code",
   "execution_count": 36,
   "metadata": {},
   "outputs": [],
   "source": [
    "agg_moe_adult = ... #FILL IN \n",
    "agg_moe_senior = ... #FILL IN "
   ]
  },
  {
   "cell_type": "markdown",
   "metadata": {},
   "source": [
    "The cell below puts our calculated `agg_moe_child`, `agg_moe_adult`, `agg_moe_senior` into an array, and then adds that array as a column to our `aggregated` DataFrame."
   ]
  },
  {
   "cell_type": "code",
   "execution_count": 37,
   "metadata": {},
   "outputs": [
    {
     "data": {
      "text/html": [
       "<div>\n",
       "<style scoped>\n",
       "    .dataframe tbody tr th:only-of-type {\n",
       "        vertical-align: middle;\n",
       "    }\n",
       "\n",
       "    .dataframe tbody tr th {\n",
       "        vertical-align: top;\n",
       "    }\n",
       "\n",
       "    .dataframe thead th {\n",
       "        text-align: right;\n",
       "    }\n",
       "</style>\n",
       "<table border=\"1\" class=\"dataframe\">\n",
       "  <thead>\n",
       "    <tr style=\"text-align: right;\">\n",
       "      <th></th>\n",
       "      <th>Age Categories</th>\n",
       "      <th>Estimate</th>\n",
       "      <th>MOE</th>\n",
       "    </tr>\n",
       "  </thead>\n",
       "  <tbody>\n",
       "    <tr>\n",
       "      <th>0</th>\n",
       "      <td>Child</td>\n",
       "      <td>678</td>\n",
       "      <td>493.244</td>\n",
       "    </tr>\n",
       "    <tr>\n",
       "      <th>1</th>\n",
       "      <td>Working Age Adult</td>\n",
       "      <td>2810</td>\n",
       "      <td>Ellipsis</td>\n",
       "    </tr>\n",
       "    <tr>\n",
       "      <th>2</th>\n",
       "      <td>Senior Adult</td>\n",
       "      <td>498</td>\n",
       "      <td>Ellipsis</td>\n",
       "    </tr>\n",
       "  </tbody>\n",
       "</table>\n",
       "</div>"
      ],
      "text/plain": [
       "      Age Categories  Estimate       MOE\n",
       "0              Child       678   493.244\n",
       "1  Working Age Adult      2810  Ellipsis\n",
       "2       Senior Adult       498  Ellipsis"
      ]
     },
     "execution_count": 37,
     "metadata": {},
     "output_type": "execute_result"
    }
   ],
   "source": [
    "# Run this cell to produce and view your final aggregated table!\n",
    "aggregated['MOE'] = np.array([agg_moe_child, agg_moe_adult, agg_moe_senior])\n",
    "aggregated"
   ]
  },
  {
   "cell_type": "markdown",
   "metadata": {},
   "source": [
    "Finally, you can run this line that will output the aggregated table to a .csv file, so you can use it in other programs!"
   ]
  },
  {
   "cell_type": "code",
   "execution_count": 38,
   "metadata": {},
   "outputs": [],
   "source": [
    "aggregated.to_csv('Lab4Agg.csv')"
   ]
  }
 ],
 "metadata": {
  "kernelspec": {
   "display_name": "Python 3",
   "language": "python",
   "name": "python3"
  },
  "language_info": {
   "codemirror_mode": {
    "name": "ipython",
    "version": 3
   },
   "file_extension": ".py",
   "mimetype": "text/x-python",
   "name": "python",
   "nbconvert_exporter": "python",
   "pygments_lexer": "ipython3",
   "version": "3.8.5"
  }
 },
 "nbformat": 4,
 "nbformat_minor": 4
}
