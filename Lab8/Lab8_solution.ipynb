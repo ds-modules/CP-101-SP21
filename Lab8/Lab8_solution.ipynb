{
 "cells": [
  {
   "cell_type": "markdown",
   "metadata": {},
   "source": [
    "# Lab 8: Python Basics and Visualization"
   ]
  },
  {
   "cell_type": "markdown",
   "metadata": {},
   "source": [
    "In this lab you will become more familiarized with Python.\n",
    "\n",
    "The goal of this lab is that you learn:  \n",
    "1. **Variables and basic data types in Python**  \n",
    "2. **Visualization in Python**  \n",
    "3. **Use of conditionals**  \n",
    "4. **Use of for-loops**  \n"
   ]
  },
  {
   "cell_type": "markdown",
   "metadata": {},
   "source": [
    "<a>\n",
    "  <img src=\"images/python_is_fun.jpg\" width='600' height='800'>\n",
    "</a>"
   ]
  },
  {
   "cell_type": "markdown",
   "metadata": {},
   "source": [
    "## <font color='red'> 1. Python's Variables and Data Types:\n",
    "- Numerals\n",
    "- Variables\n",
    "- Strings\n",
    "- Lists\n",
    "- Arrays"
   ]
  },
  {
   "cell_type": "markdown",
   "metadata": {},
   "source": [
    "### Numerals"
   ]
  },
  {
   "cell_type": "markdown",
   "metadata": {},
   "source": [
    "Python uses float (numbers with decomal points) and int (integers) as numerals.  \n",
    "\n",
    "With numerals, Python can be used as a calculator. Run the cells below to see it for yourself."
   ]
  },
  {
   "cell_type": "code",
   "execution_count": 1,
   "metadata": {},
   "outputs": [
    {
     "data": {
      "text/plain": [
       "8"
      ]
     },
     "execution_count": 1,
     "metadata": {},
     "output_type": "execute_result"
    }
   ],
   "source": [
    "3+5"
   ]
  },
  {
   "cell_type": "code",
   "execution_count": 2,
   "metadata": {},
   "outputs": [
    {
     "data": {
      "text/plain": [
       "120"
      ]
     },
     "execution_count": 2,
     "metadata": {},
     "output_type": "execute_result"
    }
   ],
   "source": [
    "140-20"
   ]
  },
  {
   "cell_type": "code",
   "execution_count": 3,
   "metadata": {},
   "outputs": [
    {
     "data": {
      "text/plain": [
       "20.0"
      ]
     },
     "execution_count": 3,
     "metadata": {},
     "output_type": "execute_result"
    }
   ],
   "source": [
    "40/2"
   ]
  },
  {
   "cell_type": "code",
   "execution_count": 4,
   "metadata": {},
   "outputs": [
    {
     "data": {
      "text/plain": [
       "4"
      ]
     },
     "execution_count": 4,
     "metadata": {},
     "output_type": "execute_result"
    }
   ],
   "source": [
    "2*2"
   ]
  },
  {
   "cell_type": "markdown",
   "metadata": {},
   "source": [
    "Python follows the same arithmetic rules as we do. So guess what the output of the next cell will be:"
   ]
  },
  {
   "cell_type": "code",
   "execution_count": 5,
   "metadata": {},
   "outputs": [
    {
     "data": {
      "text/plain": [
       "11"
      ]
     },
     "execution_count": 5,
     "metadata": {},
     "output_type": "execute_result"
    }
   ],
   "source": [
    "2*5+1"
   ]
  },
  {
   "cell_type": "markdown",
   "metadata": {},
   "source": [
    "What about this cell:"
   ]
  },
  {
   "cell_type": "code",
   "execution_count": 6,
   "metadata": {
    "scrolled": true
   },
   "outputs": [
    {
     "data": {
      "text/plain": [
       "12"
      ]
     },
     "execution_count": 6,
     "metadata": {},
     "output_type": "execute_result"
    }
   ],
   "source": [
    "2*(5+1)"
   ]
  },
  {
   "cell_type": "markdown",
   "metadata": {},
   "source": [
    "<div class=\"alert alert-success\" style=\"font-size:120%\">\n",
    "<b>YOUR TURN</b>: <br>\n",
    " Guess what a double star notation does? Run the cell below to see if you had the right intuition about it.\n",
    "</div>"
   ]
  },
  {
   "cell_type": "code",
   "execution_count": 7,
   "metadata": {},
   "outputs": [
    {
     "data": {
      "text/plain": [
       "9"
      ]
     },
     "execution_count": 7,
     "metadata": {},
     "output_type": "execute_result"
    }
   ],
   "source": [
    "3**2"
   ]
  },
  {
   "cell_type": "markdown",
   "metadata": {},
   "source": [
    "As was mentioned above, there are two types of numerals: integers and floats. \n",
    "In older versions of Python, they were not compatible (one couldn't have performed any calculations on them without making them the same data type) If you must use older versions of Python for your work, it isimportant to remember which type you are using in order to avoid bugs. \n",
    "Floats use decimal points, so it will be easy for you to spot them. See how the output changes when we print the same number as an integer and as a float."
   ]
  },
  {
   "cell_type": "code",
   "execution_count": 8,
   "metadata": {},
   "outputs": [
    {
     "data": {
      "text/plain": [
       "1776"
      ]
     },
     "execution_count": 8,
     "metadata": {},
     "output_type": "execute_result"
    }
   ],
   "source": [
    "int(1776)"
   ]
  },
  {
   "cell_type": "code",
   "execution_count": 9,
   "metadata": {},
   "outputs": [
    {
     "data": {
      "text/plain": [
       "1776.0"
      ]
     },
     "execution_count": 9,
     "metadata": {},
     "output_type": "execute_result"
    }
   ],
   "source": [
    "float(1776)"
   ]
  },
  {
   "cell_type": "markdown",
   "metadata": {},
   "source": [
    "### Variables"
   ]
  },
  {
   "cell_type": "markdown",
   "metadata": {},
   "source": [
    "To store the values in Python (and in many other programming languages) we need to use variables. Variables can store all kinds of information. This is useful if you plan to use the same values later on in your project. It will save you time and make your code more readable. To see how we store values in variables run the cell below."
   ]
  },
  {
   "cell_type": "code",
   "execution_count": 10,
   "metadata": {},
   "outputs": [],
   "source": [
    "x=3"
   ]
  },
  {
   "cell_type": "code",
   "execution_count": 11,
   "metadata": {},
   "outputs": [
    {
     "name": "stdout",
     "output_type": "stream",
     "text": [
      "3\n"
     ]
    }
   ],
   "source": [
    "print(x)"
   ]
  },
  {
   "cell_type": "code",
   "execution_count": 12,
   "metadata": {},
   "outputs": [
    {
     "data": {
      "text/plain": [
       "'Wait for it!'"
      ]
     },
     "execution_count": 12,
     "metadata": {},
     "output_type": "execute_result"
    }
   ],
   "source": [
    "burr = \"Wait for it!\"\n",
    "burr"
   ]
  },
  {
   "cell_type": "markdown",
   "metadata": {},
   "source": [
    "If you don't assign any value to the variable and call it later, it will give you an error. We can see it in the cell below. (It will give you an error, but it was planned that way)"
   ]
  },
  {
   "cell_type": "code",
   "execution_count": 13,
   "metadata": {},
   "outputs": [
    {
     "data": {
      "text/plain": [
       "'Wait for it!'"
      ]
     },
     "execution_count": 13,
     "metadata": {},
     "output_type": "execute_result"
    }
   ],
   "source": [
    "burr"
   ]
  },
  {
   "cell_type": "code",
   "execution_count": 14,
   "metadata": {},
   "outputs": [],
   "source": [
    "#y"
   ]
  },
  {
   "cell_type": "code",
   "execution_count": 15,
   "metadata": {},
   "outputs": [],
   "source": [
    "y = 8\n",
    "z = x+y"
   ]
  },
  {
   "cell_type": "code",
   "execution_count": 16,
   "metadata": {},
   "outputs": [
    {
     "data": {
      "text/plain": [
       "11"
      ]
     },
     "execution_count": 16,
     "metadata": {},
     "output_type": "execute_result"
    }
   ],
   "source": [
    "z"
   ]
  },
  {
   "cell_type": "markdown",
   "metadata": {},
   "source": [
    "### Strings"
   ]
  },
  {
   "cell_type": "markdown",
   "metadata": {},
   "source": [
    "The phrases and words in Python are always stored inbetween double or single quotation marks. They are formally called strings."
   ]
  },
  {
   "cell_type": "code",
   "execution_count": 17,
   "metadata": {},
   "outputs": [
    {
     "data": {
      "text/plain": [
       "'History has its eyes on you'"
      ]
     },
     "execution_count": 17,
     "metadata": {},
     "output_type": "execute_result"
    }
   ],
   "source": [
    "\"History has its eyes on you\""
   ]
  },
  {
   "cell_type": "markdown",
   "metadata": {},
   "source": [
    "Also, you can use both single and double quotes for the strings, but sometimes you need to use single quotes inside of the string and that might cause a problem (it will \"exit it out\"). \n",
    "\n",
    "You can just always use the double quotation marks on the outside to avoid such problem. Or, you can use a backslash before the single quotation mark. It will tell Python to ignore it and not to exit it out. You can see an example of it below:"
   ]
  },
  {
   "cell_type": "code",
   "execution_count": 18,
   "metadata": {},
   "outputs": [
    {
     "name": "stdout",
     "output_type": "stream",
     "text": [
      "What'd I miss\n",
      "You'll be back\n"
     ]
    }
   ],
   "source": [
    "print(\"What'd I miss\")\n",
    "print('You\\'ll be back')"
   ]
  },
  {
   "cell_type": "markdown",
   "metadata": {},
   "source": [
    "The strings can also be \"added\" onto one another. Run the cell below to see how it works."
   ]
  },
  {
   "cell_type": "code",
   "execution_count": 19,
   "metadata": {},
   "outputs": [
    {
     "data": {
      "text/plain": [
       "'Yorktown'"
      ]
     },
     "execution_count": 19,
     "metadata": {},
     "output_type": "execute_result"
    }
   ],
   "source": [
    "\"York\"+\"town\""
   ]
  },
  {
   "cell_type": "code",
   "execution_count": 20,
   "metadata": {},
   "outputs": [
    {
     "data": {
      "text/plain": [
       "'Mexico City'"
      ]
     },
     "execution_count": 20,
     "metadata": {},
     "output_type": "execute_result"
    }
   ],
   "source": [
    "\"Mexico\"+\" \"+\"City\""
   ]
  },
  {
   "cell_type": "markdown",
   "metadata": {},
   "source": [
    "When we are using Jupyter Notebooks, the last line is printed out automatically (unless it is performing some other operation, eg. getting assigned to a specific value). But if you would like to print more than just the last line, you can use the print( ) method. If you just run the next cell, it will not give you any output."
   ]
  },
  {
   "cell_type": "code",
   "execution_count": 21,
   "metadata": {},
   "outputs": [],
   "source": [
    "aaron = \"Ev’ryone give it up for America’s favorite fighting Frenchman\"\n",
    "everyone = \"Lafayette!\"\n",
    "mdl = \"I’m takin this horse by the reins\""
   ]
  },
  {
   "cell_type": "markdown",
   "metadata": {},
   "source": [
    "<div class=\"alert alert-success\" style=\"font-size:120%\">\n",
    "<b>YOUR TURN</b>: <br>\n",
    " Try using print( ) in the cell below to output all the three lines of lyrics of \"Guns and Ships\".  \n",
    "    \n",
    " <b>Hint:</b>  you'll need to use it three times.\n",
    "</div>"
   ]
  },
  {
   "cell_type": "code",
   "execution_count": 22,
   "metadata": {},
   "outputs": [
    {
     "name": "stdout",
     "output_type": "stream",
     "text": [
      "Ev’ryone give it up for America’s favorite fighting Frenchman\n",
      "Lafayette!\n",
      "I’m takin this horse by the reins\n"
     ]
    }
   ],
   "source": [
    "### YOUR CODE HERE ###\n",
    "print(aaron) #we are printing the first line of the song\n",
    "print(everyone)\n",
    "print(mdl)"
   ]
  },
  {
   "cell_type": "markdown",
   "metadata": {},
   "source": [
    "A string is a sequence of characters. If you want to see how many characters your string has, use the len() method. Do you think spaces are considered characters in Python? Check if your intuition was correct by running the cell below."
   ]
  },
  {
   "cell_type": "code",
   "execution_count": 23,
   "metadata": {},
   "outputs": [
    {
     "data": {
      "text/plain": [
       "'Wait for it!'"
      ]
     },
     "execution_count": 23,
     "metadata": {},
     "output_type": "execute_result"
    }
   ],
   "source": [
    "burr"
   ]
  },
  {
   "cell_type": "code",
   "execution_count": 24,
   "metadata": {},
   "outputs": [
    {
     "data": {
      "text/plain": [
       "12"
      ]
     },
     "execution_count": 24,
     "metadata": {},
     "output_type": "execute_result"
    }
   ],
   "source": [
    "len(burr)"
   ]
  },
  {
   "cell_type": "markdown",
   "metadata": {},
   "source": [
    "<div class=\"alert alert-success\" style=\"font-size:120%\">\n",
    "<b>YOUR TURN</b>: <br>\n",
    " Now create a variable name in which you will save your full name. Note that you need to call the variable once again in order to get an output.\n",
    "</div>"
   ]
  },
  {
   "cell_type": "code",
   "execution_count": 25,
   "metadata": {},
   "outputs": [
    {
     "data": {
      "text/plain": [
       "'Irene Farah'"
      ]
     },
     "execution_count": 25,
     "metadata": {},
     "output_type": "execute_result"
    }
   ],
   "source": [
    "### YOUR CODE HERE ###\n",
    "name = \"Irene Farah\"\n",
    "name"
   ]
  },
  {
   "cell_type": "markdown",
   "metadata": {},
   "source": [
    "Sometimes you need to switch the values in two variables. \n",
    "In the cell below we have the last names mixed up. The variable theodosia should have an output \"burr\" and philip should return \"hamilton\".\n",
    "How would you approach this problem without manually retyping the outputs?\n",
    "\n",
    "**Hint** Use a temporary variable in which you can temporarily save the value of one of the other variables. "
   ]
  },
  {
   "cell_type": "code",
   "execution_count": 26,
   "metadata": {},
   "outputs": [],
   "source": [
    "theodosia = \"hamilton\"\n",
    "philip = \"burr\""
   ]
  },
  {
   "cell_type": "code",
   "execution_count": 27,
   "metadata": {},
   "outputs": [
    {
     "name": "stdout",
     "output_type": "stream",
     "text": [
      "hamilton\n",
      "burr\n"
     ]
    }
   ],
   "source": [
    "print(theodosia)\n",
    "print(philip)"
   ]
  },
  {
   "cell_type": "code",
   "execution_count": 28,
   "metadata": {},
   "outputs": [],
   "source": [
    "##fill these in, Version 1:\n",
    "theodosia, philip = \"burr\", \"hamilton\""
   ]
  },
  {
   "cell_type": "code",
   "execution_count": 29,
   "metadata": {},
   "outputs": [
    {
     "name": "stdout",
     "output_type": "stream",
     "text": [
      "burr\n",
      "hamilton\n"
     ]
    }
   ],
   "source": [
    "print(theodosia)\n",
    "print(philip)"
   ]
  },
  {
   "cell_type": "code",
   "execution_count": 30,
   "metadata": {},
   "outputs": [],
   "source": [
    "theodosia = \"hamilton\"\n",
    "philip = \"burr\""
   ]
  },
  {
   "cell_type": "code",
   "execution_count": 31,
   "metadata": {},
   "outputs": [
    {
     "name": "stdout",
     "output_type": "stream",
     "text": [
      "burr\n",
      "hamilton\n"
     ]
    }
   ],
   "source": [
    "# Version 2\n",
    "temp = theodosia\n",
    "theodosia = philip\n",
    "philip = temp\n",
    "\n",
    "print(theodosia)\n",
    "print(philip)"
   ]
  },
  {
   "cell_type": "markdown",
   "metadata": {},
   "source": [
    "### Lists"
   ]
  },
  {
   "cell_type": "markdown",
   "metadata": {},
   "source": [
    "You have learned about the strings and numerals, it's time to take it up a notch. Another useful and very popular data type is a Python list.\n",
    "Lists can take various data types (both numerals, strings, arrays, other lists, etc). \n",
    "\n",
    "To create an empty list just make your variable equal to \"[ ]\", like so:"
   ]
  },
  {
   "cell_type": "code",
   "execution_count": 32,
   "metadata": {},
   "outputs": [
    {
     "data": {
      "text/plain": [
       "[]"
      ]
     },
     "execution_count": 32,
     "metadata": {},
     "output_type": "execute_result"
    }
   ],
   "source": [
    "washington = []\n",
    "washington"
   ]
  },
  {
   "cell_type": "markdown",
   "metadata": {},
   "source": [
    "To add the values into your list you can either use lst.append( ), lst.insert( ), or lst.extend( )."
   ]
  },
  {
   "cell_type": "code",
   "execution_count": 33,
   "metadata": {},
   "outputs": [
    {
     "data": {
      "text/plain": [
       "['Right Hand Man']"
      ]
     },
     "execution_count": 33,
     "metadata": {},
     "output_type": "execute_result"
    }
   ],
   "source": [
    "washington.extend([\"Right Hand Man\"])\n",
    "washington"
   ]
  },
  {
   "cell_type": "code",
   "execution_count": 34,
   "metadata": {},
   "outputs": [
    {
     "data": {
      "text/plain": [
       "['I need my', 'Right Hand Man']"
      ]
     },
     "execution_count": 34,
     "metadata": {},
     "output_type": "execute_result"
    }
   ],
   "source": [
    "washington.insert(0, \"I need my\")\n",
    "washington"
   ]
  },
  {
   "cell_type": "code",
   "execution_count": 35,
   "metadata": {},
   "outputs": [
    {
     "data": {
      "text/plain": [
       "['I need my', 'Right Hand Man', 'Back']"
      ]
     },
     "execution_count": 35,
     "metadata": {},
     "output_type": "execute_result"
    }
   ],
   "source": [
    "washington.append(\"Back\")\n",
    "washington"
   ]
  },
  {
   "cell_type": "markdown",
   "metadata": {},
   "source": [
    "Notice, that the `insert` method takes two positional values. You need to specify the index in the list at which it will be inserted, whilst `append` just adds the value to the end of the list. \n",
    "`extend` takes another list as its input. If you try to use a string or a number by itself, it will give you an error."
   ]
  },
  {
   "cell_type": "markdown",
   "metadata": {},
   "source": [
    "When you need to access an element at a specific index, that is the code you can use The code below returns the second element of the list."
   ]
  },
  {
   "cell_type": "code",
   "execution_count": 36,
   "metadata": {},
   "outputs": [
    {
     "data": {
      "text/plain": [
       "'Right Hand Man'"
      ]
     },
     "execution_count": 36,
     "metadata": {},
     "output_type": "execute_result"
    }
   ],
   "source": [
    "washington[1]"
   ]
  },
  {
   "cell_type": "markdown",
   "metadata": {},
   "source": [
    "**Note:** Python starts counting at 0, not 1."
   ]
  },
  {
   "cell_type": "markdown",
   "metadata": {},
   "source": [
    "Sometimes you just need to use part of the list. In this case you can use \":\" to modify your list. Let's make a new list:"
   ]
  },
  {
   "cell_type": "markdown",
   "metadata": {},
   "source": [
    "Sometimes you just need to use part of the list or copy the whole list into a new variable. In this\n",
    "case you can use \":\" to modify your list.\n",
    "The notation is:\n",
    "\n",
    "**a = b[start:stop:step]**\n",
    "\n",
    "***start***: the index you want to start with. (the default is 0)\n",
    "\n",
    "***stop***: the index you want to end with. (the default is the last number)\n",
    "\n",
    "***step***: use it, if you wish to skip some indeces (eg. use only every other value). For example, if you start with index 1 and step is 2, you will iterate through the 1st index, then 3rd, then 5th, etc. until you get to the stopping index. (the default is 1)\n",
    "\n",
    "Note that python will stop iterating at the value before the last index. See the following example:"
   ]
  },
  {
   "cell_type": "code",
   "execution_count": 37,
   "metadata": {},
   "outputs": [],
   "source": [
    "lst = [1,2,3,4,5]"
   ]
  },
  {
   "cell_type": "code",
   "execution_count": 38,
   "metadata": {},
   "outputs": [
    {
     "data": {
      "text/plain": [
       "[1, 2, 3, 4, 5]"
      ]
     },
     "execution_count": 38,
     "metadata": {},
     "output_type": "execute_result"
    }
   ],
   "source": [
    "lst"
   ]
  },
  {
   "cell_type": "code",
   "execution_count": 39,
   "metadata": {},
   "outputs": [],
   "source": [
    "lst2=list(range(1,6))"
   ]
  },
  {
   "cell_type": "code",
   "execution_count": 40,
   "metadata": {},
   "outputs": [
    {
     "data": {
      "text/plain": [
       "[1, 2, 3, 4, 5]"
      ]
     },
     "execution_count": 40,
     "metadata": {},
     "output_type": "execute_result"
    }
   ],
   "source": [
    "lst2"
   ]
  },
  {
   "cell_type": "code",
   "execution_count": 41,
   "metadata": {
    "scrolled": true
   },
   "outputs": [
    {
     "data": {
      "text/plain": [
       "[1, 2, 3, 4, 5]"
      ]
     },
     "execution_count": 41,
     "metadata": {},
     "output_type": "execute_result"
    }
   ],
   "source": [
    "lst[0:5:1]"
   ]
  },
  {
   "cell_type": "code",
   "execution_count": 42,
   "metadata": {},
   "outputs": [],
   "source": [
    "lst3=list(range(1,21))"
   ]
  },
  {
   "cell_type": "code",
   "execution_count": 43,
   "metadata": {},
   "outputs": [
    {
     "data": {
      "text/plain": [
       "[1, 2, 3, 4, 5, 6, 7, 8, 9, 10, 11, 12, 13, 14, 15, 16, 17, 18, 19, 20]"
      ]
     },
     "execution_count": 43,
     "metadata": {},
     "output_type": "execute_result"
    }
   ],
   "source": [
    "lst3"
   ]
  },
  {
   "cell_type": "code",
   "execution_count": 44,
   "metadata": {},
   "outputs": [
    {
     "data": {
      "text/plain": [
       "[2, 4, 6, 8, 10, 12, 14, 16, 18, 20]"
      ]
     },
     "execution_count": 44,
     "metadata": {},
     "output_type": "execute_result"
    }
   ],
   "source": [
    "lst3[1:20:2]"
   ]
  },
  {
   "cell_type": "markdown",
   "metadata": {},
   "source": [
    "Note: if you wish to start iterating from the end of a list backwards, we use a negative step:"
   ]
  },
  {
   "cell_type": "code",
   "execution_count": 45,
   "metadata": {},
   "outputs": [
    {
     "data": {
      "text/plain": [
       "[5, 4, 3, 2, 1]"
      ]
     },
     "execution_count": 45,
     "metadata": {},
     "output_type": "execute_result"
    }
   ],
   "source": [
    "lst[::-1]"
   ]
  },
  {
   "cell_type": "code",
   "execution_count": 46,
   "metadata": {},
   "outputs": [
    {
     "data": {
      "text/plain": [
       "['Alexander Hamilton',\n",
       " 'My Shot',\n",
       " 'The Schuyler Sisters',\n",
       " \"You'll be Back\",\n",
       " \"A Winter's Ball\",\n",
       " 'Satisfied']"
      ]
     },
     "execution_count": 46,
     "metadata": {},
     "output_type": "execute_result"
    }
   ],
   "source": [
    "ham_songs = [\"Alexander Hamilton\", \"Aaron Burr, Sir\", \"My Shot\", \\\n",
    "             \"The Story of Tonight\", \"The Schuyler Sisters\", \"Farmer Refuted\",\n",
    "             \"You'll be Back\", \"Right Hand Man\", \"A Winter's Ball\", \\\n",
    "             \"Helpless\", \"Satisfied\"]\n",
    "\n",
    "every_other = ham_songs[::2] \n",
    "every_other"
   ]
  },
  {
   "cell_type": "code",
   "execution_count": 47,
   "metadata": {},
   "outputs": [
    {
     "data": {
      "text/plain": [
       "['I', 'am', 'not', 'throwing', 'away', 'my', 'shot']"
      ]
     },
     "execution_count": 47,
     "metadata": {},
     "output_type": "execute_result"
    }
   ],
   "source": [
    "lyrics = [\"I\", \"am\", \"not\", \"throwing\", \"away\", \"my\", \"shot\"]\n",
    "lyrics"
   ]
  },
  {
   "cell_type": "markdown",
   "metadata": {},
   "source": [
    "Let's say you want to save only the two last words from your old list into your new list. That's what you will need to do then:"
   ]
  },
  {
   "cell_type": "code",
   "execution_count": 48,
   "metadata": {},
   "outputs": [
    {
     "data": {
      "text/plain": [
       "['my', 'shot']"
      ]
     },
     "execution_count": 48,
     "metadata": {},
     "output_type": "execute_result"
    }
   ],
   "source": [
    "alex = lyrics[-2:]\n",
    "alex\n",
    "\n",
    "# alternatively you can use lyrics[5:]"
   ]
  },
  {
   "cell_type": "markdown",
   "metadata": {},
   "source": [
    "Notice also that if you want to learn the length of your list, you can use the same method \"len( )\", but it will not count all the characters anymore. Instead, it will count all the elements in it. Like so:"
   ]
  },
  {
   "cell_type": "code",
   "execution_count": 49,
   "metadata": {},
   "outputs": [
    {
     "data": {
      "text/plain": [
       "['I need my', 'Right Hand Man', 'Back']"
      ]
     },
     "execution_count": 49,
     "metadata": {},
     "output_type": "execute_result"
    }
   ],
   "source": [
    "washington"
   ]
  },
  {
   "cell_type": "code",
   "execution_count": 50,
   "metadata": {},
   "outputs": [
    {
     "data": {
      "text/plain": [
       "3"
      ]
     },
     "execution_count": 50,
     "metadata": {},
     "output_type": "execute_result"
    }
   ],
   "source": [
    "len(washington)"
   ]
  },
  {
   "cell_type": "markdown",
   "metadata": {},
   "source": [
    "<div class=\"alert alert-success\" style=\"font-size:120%\">\n",
    "<b>YOUR TURN</b>: <br>\n",
    " Create a list with the values 1, 2, 3, 4, and 5 and only get the values 2 and 4\n",
    "</div>"
   ]
  },
  {
   "cell_type": "code",
   "execution_count": 51,
   "metadata": {},
   "outputs": [
    {
     "data": {
      "text/plain": [
       "[2, 4]"
      ]
     },
     "execution_count": 51,
     "metadata": {},
     "output_type": "execute_result"
    }
   ],
   "source": [
    "### YOUR CODE HERE ###\n",
    "lst = [1,2,3,4,5]\n",
    "lst\n",
    "lst2=[lst[1], lst[3]]\n",
    "lst2"
   ]
  },
  {
   "cell_type": "markdown",
   "metadata": {},
   "source": [
    "### Arrays"
   ]
  },
  {
   "cell_type": "code",
   "execution_count": 52,
   "metadata": {},
   "outputs": [],
   "source": [
    "import numpy as np"
   ]
  },
  {
   "cell_type": "markdown",
   "metadata": {},
   "source": [
    "With the help of numpy we can introduce a new data type - arrays. Arrays are commonly used with Data Frames (basically, tables of values). There are a lot of functions and methods that can be used with arrays when we are analyzing data. The main difference between the lists and arrays is that an array can take only one type of data (eg. only numerals, or strings, but never both).\n",
    "\n",
    "To create an array with values, just make your variable equal to np.array(\"your value\")"
   ]
  },
  {
   "cell_type": "code",
   "execution_count": 53,
   "metadata": {},
   "outputs": [
    {
     "data": {
      "text/plain": [
       "array(10)"
      ]
     },
     "execution_count": 53,
     "metadata": {},
     "output_type": "execute_result"
    }
   ],
   "source": [
    "arr = np.array(10)\n",
    "arr"
   ]
  },
  {
   "cell_type": "markdown",
   "metadata": {},
   "source": [
    "A very useful method that can be used with an array of numbers is np.arange( ). It takes at least 2, sometimes 3 positional arguments. The first number will be the starting point of your array, the last one will identify up to which number your array will go (not inclusive). The third positional argument is optional, it shows how many steps an array should skip through. (This is very similar to lists)\n",
    "\n",
    "For example, if you need an array with numbers from 0 to 20, but you only want for it to include every other number, you will need add a third positional argument."
   ]
  },
  {
   "cell_type": "code",
   "execution_count": 54,
   "metadata": {},
   "outputs": [
    {
     "data": {
      "text/plain": [
       "array([ 0,  2,  4,  6,  8, 10, 12, 14, 16, 18, 20])"
      ]
     },
     "execution_count": 54,
     "metadata": {},
     "output_type": "execute_result"
    }
   ],
   "source": [
    "every_other = np.arange(0, 21, 2)\n",
    "every_other"
   ]
  },
  {
   "cell_type": "markdown",
   "metadata": {},
   "source": [
    "You can also convert a list of numbers in Python into an array:"
   ]
  },
  {
   "cell_type": "code",
   "execution_count": 55,
   "metadata": {},
   "outputs": [
    {
     "data": {
      "text/plain": [
       "array([1, 2, 3, 4, 5])"
      ]
     },
     "execution_count": 55,
     "metadata": {},
     "output_type": "execute_result"
    }
   ],
   "source": [
    "num_lst = [1, 2, 3, 4, 5]\n",
    "num_arr = np.array(num_lst)\n",
    "num_arr"
   ]
  },
  {
   "cell_type": "markdown",
   "metadata": {},
   "source": [
    "You can do some arithmetic with arrays. Guess what will be the output of this line of code before you run it:"
   ]
  },
  {
   "cell_type": "code",
   "execution_count": 56,
   "metadata": {},
   "outputs": [
    {
     "data": {
      "text/plain": [
       "array([ 2,  4,  6,  8, 10])"
      ]
     },
     "execution_count": 56,
     "metadata": {},
     "output_type": "execute_result"
    }
   ],
   "source": [
    "num_arr*2"
   ]
  },
  {
   "cell_type": "markdown",
   "metadata": {},
   "source": [
    "As you can see, all the values in our array got mutliplied by 2."
   ]
  },
  {
   "cell_type": "markdown",
   "metadata": {},
   "source": [
    "Try performing the same operation with the initial list of numbers instead. What do you think the output will be in the cell below?"
   ]
  },
  {
   "cell_type": "code",
   "execution_count": 57,
   "metadata": {},
   "outputs": [
    {
     "data": {
      "text/plain": [
       "[1, 2, 3, 4, 5, 1, 2, 3, 4, 5]"
      ]
     },
     "execution_count": 57,
     "metadata": {},
     "output_type": "execute_result"
    }
   ],
   "source": [
    "num_lst*2"
   ]
  },
  {
   "cell_type": "markdown",
   "metadata": {},
   "source": [
    "As you can see, lists and arrays not only can be used differently, but they also give different outputs when we are using the same operations on them."
   ]
  },
  {
   "cell_type": "markdown",
   "metadata": {},
   "source": [
    "### **How to know what data type are we talking about?**"
   ]
  },
  {
   "cell_type": "code",
   "execution_count": 58,
   "metadata": {},
   "outputs": [
    {
     "data": {
      "text/plain": [
       "['I', 'am', 'not', 'throwing', 'away', 'my', 'shot']"
      ]
     },
     "execution_count": 58,
     "metadata": {},
     "output_type": "execute_result"
    }
   ],
   "source": [
    "lyrics"
   ]
  },
  {
   "cell_type": "code",
   "execution_count": 59,
   "metadata": {},
   "outputs": [
    {
     "data": {
      "text/plain": [
       "list"
      ]
     },
     "execution_count": 59,
     "metadata": {},
     "output_type": "execute_result"
    }
   ],
   "source": [
    "# Using type() and inside the parentheses including the object\n",
    "type(lyrics)"
   ]
  },
  {
   "cell_type": "code",
   "execution_count": 60,
   "metadata": {},
   "outputs": [
    {
     "data": {
      "text/plain": [
       "'CP101'"
      ]
     },
     "execution_count": 60,
     "metadata": {},
     "output_type": "execute_result"
    }
   ],
   "source": [
    "\"CP101\""
   ]
  },
  {
   "cell_type": "code",
   "execution_count": 61,
   "metadata": {},
   "outputs": [
    {
     "data": {
      "text/plain": [
       "str"
      ]
     },
     "execution_count": 61,
     "metadata": {},
     "output_type": "execute_result"
    }
   ],
   "source": [
    "type(\"CP101\")"
   ]
  },
  {
   "cell_type": "code",
   "execution_count": 62,
   "metadata": {},
   "outputs": [
    {
     "data": {
      "text/plain": [
       "int"
      ]
     },
     "execution_count": 62,
     "metadata": {},
     "output_type": "execute_result"
    }
   ],
   "source": [
    "type(5)"
   ]
  },
  {
   "cell_type": "code",
   "execution_count": 63,
   "metadata": {},
   "outputs": [
    {
     "data": {
      "text/plain": [
       "float"
      ]
     },
     "execution_count": 63,
     "metadata": {},
     "output_type": "execute_result"
    }
   ],
   "source": [
    "type(5.4)"
   ]
  },
  {
   "cell_type": "markdown",
   "metadata": {},
   "source": [
    "## <font color='red'> 2. Visualizations - introducing matplotlib!"
   ]
  },
  {
   "cell_type": "markdown",
   "metadata": {},
   "source": [
    "[Click here to check out the types of visualization you can output using matplotlib!](https://matplotlib.org/gallery/index.html)"
   ]
  },
  {
   "cell_type": "markdown",
   "metadata": {},
   "source": [
    "It is time for us to revisit Python libraries. What makes it powerful are the libraries people wrote for it. Libraries are the sets of different functions that you can import and use. The most popular libraries are numpy, pandas, and matplotlib.\n",
    "\n",
    "\n",
    "Since we are using Anaconda, a lot of libraries have been preloaded for you. You just need to \"call\" them. Just run the cell below. It will make our notebook know that we will be using these preinstalled libraries from that point on. \n",
    "\n",
    "Libraries are used to make Python more efficient. By itself (solely with built-in functions and methods), Python is not a very useful language, hence people keep building libraries (sets of functions and methods) that can be used together with Python in order to make it more useful."
   ]
  },
  {
   "cell_type": "markdown",
   "metadata": {},
   "source": [
    "### Pandas - read in data"
   ]
  },
  {
   "cell_type": "code",
   "execution_count": 64,
   "metadata": {},
   "outputs": [],
   "source": [
    "import pandas as pd\n",
    "import matplotlib.pyplot as plt"
   ]
  },
  {
   "cell_type": "code",
   "execution_count": 65,
   "metadata": {},
   "outputs": [],
   "source": [
    "# First let's upload the dataset we have selected to work on, using the pd.read_csv command.\n",
    "broadway = pd.read_csv(\"data/broadway.csv\")\n"
   ]
  },
  {
   "cell_type": "code",
   "execution_count": 66,
   "metadata": {},
   "outputs": [
    {
     "name": "stdout",
     "output_type": "stream",
     "text": [
      "<class 'pandas.core.frame.DataFrame'>\n"
     ]
    },
    {
     "data": {
      "text/html": [
       "<div>\n",
       "<style scoped>\n",
       "    .dataframe tbody tr th:only-of-type {\n",
       "        vertical-align: middle;\n",
       "    }\n",
       "\n",
       "    .dataframe tbody tr th {\n",
       "        vertical-align: top;\n",
       "    }\n",
       "\n",
       "    .dataframe thead th {\n",
       "        text-align: right;\n",
       "    }\n",
       "</style>\n",
       "<table border=\"1\" class=\"dataframe\">\n",
       "  <thead>\n",
       "    <tr style=\"text-align: right;\">\n",
       "      <th></th>\n",
       "      <th>Attendance</th>\n",
       "      <th>Capacity</th>\n",
       "      <th>Day</th>\n",
       "      <th>Full</th>\n",
       "      <th>Gross</th>\n",
       "      <th>Gross Potential</th>\n",
       "      <th>Month</th>\n",
       "      <th>Name</th>\n",
       "      <th>Performances</th>\n",
       "      <th>Theatre</th>\n",
       "      <th>Type</th>\n",
       "      <th>Year</th>\n",
       "    </tr>\n",
       "  </thead>\n",
       "  <tbody>\n",
       "    <tr>\n",
       "      <th>0</th>\n",
       "      <td>5500</td>\n",
       "      <td>88</td>\n",
       "      <td>26</td>\n",
       "      <td>08/26/1990</td>\n",
       "      <td>134456</td>\n",
       "      <td>0</td>\n",
       "      <td>8</td>\n",
       "      <td>Tru</td>\n",
       "      <td>8</td>\n",
       "      <td>Booth</td>\n",
       "      <td>Play</td>\n",
       "      <td>1990</td>\n",
       "    </tr>\n",
       "    <tr>\n",
       "      <th>1</th>\n",
       "      <td>1737</td>\n",
       "      <td>100</td>\n",
       "      <td>24</td>\n",
       "      <td>03/24/1991</td>\n",
       "      <td>100647</td>\n",
       "      <td>0</td>\n",
       "      <td>3</td>\n",
       "      <td>Miss Saigon</td>\n",
       "      <td>0</td>\n",
       "      <td>Broadway</td>\n",
       "      <td>Musical</td>\n",
       "      <td>1991</td>\n",
       "    </tr>\n",
       "    <tr>\n",
       "      <th>2</th>\n",
       "      <td>12160</td>\n",
       "      <td>100</td>\n",
       "      <td>31</td>\n",
       "      <td>03/31/1991</td>\n",
       "      <td>634424</td>\n",
       "      <td>0</td>\n",
       "      <td>3</td>\n",
       "      <td>Miss Saigon</td>\n",
       "      <td>0</td>\n",
       "      <td>Broadway</td>\n",
       "      <td>Musical</td>\n",
       "      <td>1991</td>\n",
       "    </tr>\n",
       "    <tr>\n",
       "      <th>3</th>\n",
       "      <td>13921</td>\n",
       "      <td>100</td>\n",
       "      <td>7</td>\n",
       "      <td>04/07/1991</td>\n",
       "      <td>713353</td>\n",
       "      <td>0</td>\n",
       "      <td>4</td>\n",
       "      <td>Miss Saigon</td>\n",
       "      <td>0</td>\n",
       "      <td>Broadway</td>\n",
       "      <td>Musical</td>\n",
       "      <td>1991</td>\n",
       "    </tr>\n",
       "    <tr>\n",
       "      <th>4</th>\n",
       "      <td>10973</td>\n",
       "      <td>90</td>\n",
       "      <td>14</td>\n",
       "      <td>04/14/1991</td>\n",
       "      <td>573981</td>\n",
       "      <td>0</td>\n",
       "      <td>4</td>\n",
       "      <td>Miss Saigon</td>\n",
       "      <td>4</td>\n",
       "      <td>Broadway</td>\n",
       "      <td>Musical</td>\n",
       "      <td>1991</td>\n",
       "    </tr>\n",
       "  </tbody>\n",
       "</table>\n",
       "</div>"
      ],
      "text/plain": [
       "   Attendance  Capacity  Day        Full   Gross  Gross Potential  Month  \\\n",
       "0        5500        88   26  08/26/1990  134456                0      8   \n",
       "1        1737       100   24  03/24/1991  100647                0      3   \n",
       "2       12160       100   31  03/31/1991  634424                0      3   \n",
       "3       13921       100    7  04/07/1991  713353                0      4   \n",
       "4       10973        90   14  04/14/1991  573981                0      4   \n",
       "\n",
       "          Name  Performances   Theatre     Type  Year  \n",
       "0          Tru             8     Booth     Play  1990  \n",
       "1  Miss Saigon             0  Broadway  Musical  1991  \n",
       "2  Miss Saigon             0  Broadway  Musical  1991  \n",
       "3  Miss Saigon             0  Broadway  Musical  1991  \n",
       "4  Miss Saigon             4  Broadway  Musical  1991  "
      ]
     },
     "execution_count": 66,
     "metadata": {},
     "output_type": "execute_result"
    }
   ],
   "source": [
    "print(type(broadway))\n",
    "broadway.head()"
   ]
  },
  {
   "cell_type": "code",
   "execution_count": 67,
   "metadata": {},
   "outputs": [
    {
     "data": {
      "text/html": [
       "<div>\n",
       "<style scoped>\n",
       "    .dataframe tbody tr th:only-of-type {\n",
       "        vertical-align: middle;\n",
       "    }\n",
       "\n",
       "    .dataframe tbody tr th {\n",
       "        vertical-align: top;\n",
       "    }\n",
       "\n",
       "    .dataframe thead th {\n",
       "        text-align: right;\n",
       "    }\n",
       "</style>\n",
       "<table border=\"1\" class=\"dataframe\">\n",
       "  <thead>\n",
       "    <tr style=\"text-align: right;\">\n",
       "      <th></th>\n",
       "      <th>Attendance</th>\n",
       "      <th>Capacity</th>\n",
       "      <th>Day</th>\n",
       "      <th>Full</th>\n",
       "      <th>Gross</th>\n",
       "      <th>Gross Potential</th>\n",
       "      <th>Month</th>\n",
       "      <th>Name</th>\n",
       "      <th>Performances</th>\n",
       "      <th>Theatre</th>\n",
       "      <th>Type</th>\n",
       "      <th>Year</th>\n",
       "    </tr>\n",
       "  </thead>\n",
       "  <tbody>\n",
       "    <tr>\n",
       "      <th>31286</th>\n",
       "      <td>11342</td>\n",
       "      <td>95</td>\n",
       "      <td>14</td>\n",
       "      <td>08/14/2016</td>\n",
       "      <td>1160694</td>\n",
       "      <td>76</td>\n",
       "      <td>8</td>\n",
       "      <td>School Of Rock</td>\n",
       "      <td>8</td>\n",
       "      <td>Winter Garden</td>\n",
       "      <td>Musical</td>\n",
       "      <td>2016</td>\n",
       "    </tr>\n",
       "    <tr>\n",
       "      <th>31287</th>\n",
       "      <td>7239</td>\n",
       "      <td>67</td>\n",
       "      <td>14</td>\n",
       "      <td>08/14/2016</td>\n",
       "      <td>584022</td>\n",
       "      <td>46</td>\n",
       "      <td>8</td>\n",
       "      <td>Something Rotten!</td>\n",
       "      <td>8</td>\n",
       "      <td>St. James</td>\n",
       "      <td>Musical</td>\n",
       "      <td>2016</td>\n",
       "    </tr>\n",
       "    <tr>\n",
       "      <th>31288</th>\n",
       "      <td>8731</td>\n",
       "      <td>102</td>\n",
       "      <td>14</td>\n",
       "      <td>08/14/2016</td>\n",
       "      <td>1305962</td>\n",
       "      <td>97</td>\n",
       "      <td>8</td>\n",
       "      <td>The Book Of Mormon</td>\n",
       "      <td>8</td>\n",
       "      <td>Eugene O'Neill</td>\n",
       "      <td>Musical</td>\n",
       "      <td>2016</td>\n",
       "    </tr>\n",
       "    <tr>\n",
       "      <th>31289</th>\n",
       "      <td>7367</td>\n",
       "      <td>88</td>\n",
       "      <td>14</td>\n",
       "      <td>08/14/2016</td>\n",
       "      <td>718400</td>\n",
       "      <td>70</td>\n",
       "      <td>8</td>\n",
       "      <td>The Color Purple 2015</td>\n",
       "      <td>8</td>\n",
       "      <td>Jacobs</td>\n",
       "      <td>Musical</td>\n",
       "      <td>2016</td>\n",
       "    </tr>\n",
       "    <tr>\n",
       "      <th>31290</th>\n",
       "      <td>6407</td>\n",
       "      <td>79</td>\n",
       "      <td>14</td>\n",
       "      <td>08/14/2016</td>\n",
       "      <td>464058</td>\n",
       "      <td>54</td>\n",
       "      <td>8</td>\n",
       "      <td>The Curious Incident Of The Dog In The Night-Time</td>\n",
       "      <td>8</td>\n",
       "      <td>Ethel Barrymore</td>\n",
       "      <td>Play</td>\n",
       "      <td>2016</td>\n",
       "    </tr>\n",
       "    <tr>\n",
       "      <th>31291</th>\n",
       "      <td>7234</td>\n",
       "      <td>87</td>\n",
       "      <td>14</td>\n",
       "      <td>08/14/2016</td>\n",
       "      <td>603770</td>\n",
       "      <td>62</td>\n",
       "      <td>8</td>\n",
       "      <td>The Humans</td>\n",
       "      <td>8</td>\n",
       "      <td>Schoenfeld</td>\n",
       "      <td>Play</td>\n",
       "      <td>2016</td>\n",
       "    </tr>\n",
       "    <tr>\n",
       "      <th>31292</th>\n",
       "      <td>13485</td>\n",
       "      <td>99</td>\n",
       "      <td>14</td>\n",
       "      <td>08/14/2016</td>\n",
       "      <td>2233894</td>\n",
       "      <td>97</td>\n",
       "      <td>8</td>\n",
       "      <td>The Lion King</td>\n",
       "      <td>8</td>\n",
       "      <td>Minskoff</td>\n",
       "      <td>Musical</td>\n",
       "      <td>2016</td>\n",
       "    </tr>\n",
       "    <tr>\n",
       "      <th>31293</th>\n",
       "      <td>10966</td>\n",
       "      <td>85</td>\n",
       "      <td>14</td>\n",
       "      <td>08/14/2016</td>\n",
       "      <td>999632</td>\n",
       "      <td>66</td>\n",
       "      <td>8</td>\n",
       "      <td>The Phantom Of The Opera</td>\n",
       "      <td>8</td>\n",
       "      <td>Majestic</td>\n",
       "      <td>Musical</td>\n",
       "      <td>2016</td>\n",
       "    </tr>\n",
       "    <tr>\n",
       "      <th>31294</th>\n",
       "      <td>8058</td>\n",
       "      <td>96</td>\n",
       "      <td>14</td>\n",
       "      <td>08/14/2016</td>\n",
       "      <td>990128</td>\n",
       "      <td>97</td>\n",
       "      <td>8</td>\n",
       "      <td>Waitress</td>\n",
       "      <td>8</td>\n",
       "      <td>Brooks Atkinson</td>\n",
       "      <td>Musical</td>\n",
       "      <td>2016</td>\n",
       "    </tr>\n",
       "    <tr>\n",
       "      <th>31295</th>\n",
       "      <td>13804</td>\n",
       "      <td>95</td>\n",
       "      <td>14</td>\n",
       "      <td>08/14/2016</td>\n",
       "      <td>1779664</td>\n",
       "      <td>100</td>\n",
       "      <td>8</td>\n",
       "      <td>Wicked</td>\n",
       "      <td>8</td>\n",
       "      <td>Gershwin</td>\n",
       "      <td>Musical</td>\n",
       "      <td>2016</td>\n",
       "    </tr>\n",
       "  </tbody>\n",
       "</table>\n",
       "</div>"
      ],
      "text/plain": [
       "       Attendance  Capacity  Day        Full    Gross  Gross Potential  Month  \\\n",
       "31286       11342        95   14  08/14/2016  1160694               76      8   \n",
       "31287        7239        67   14  08/14/2016   584022               46      8   \n",
       "31288        8731       102   14  08/14/2016  1305962               97      8   \n",
       "31289        7367        88   14  08/14/2016   718400               70      8   \n",
       "31290        6407        79   14  08/14/2016   464058               54      8   \n",
       "31291        7234        87   14  08/14/2016   603770               62      8   \n",
       "31292       13485        99   14  08/14/2016  2233894               97      8   \n",
       "31293       10966        85   14  08/14/2016   999632               66      8   \n",
       "31294        8058        96   14  08/14/2016   990128               97      8   \n",
       "31295       13804        95   14  08/14/2016  1779664              100      8   \n",
       "\n",
       "                                                    Name  Performances  \\\n",
       "31286                                     School Of Rock             8   \n",
       "31287                                  Something Rotten!             8   \n",
       "31288                                 The Book Of Mormon             8   \n",
       "31289                              The Color Purple 2015             8   \n",
       "31290  The Curious Incident Of The Dog In The Night-Time             8   \n",
       "31291                                         The Humans             8   \n",
       "31292                                      The Lion King             8   \n",
       "31293                           The Phantom Of The Opera             8   \n",
       "31294                                           Waitress             8   \n",
       "31295                                             Wicked             8   \n",
       "\n",
       "               Theatre     Type  Year  \n",
       "31286    Winter Garden  Musical  2016  \n",
       "31287        St. James  Musical  2016  \n",
       "31288   Eugene O'Neill  Musical  2016  \n",
       "31289           Jacobs  Musical  2016  \n",
       "31290  Ethel Barrymore     Play  2016  \n",
       "31291       Schoenfeld     Play  2016  \n",
       "31292         Minskoff  Musical  2016  \n",
       "31293         Majestic  Musical  2016  \n",
       "31294  Brooks Atkinson  Musical  2016  \n",
       "31295         Gershwin  Musical  2016  "
      ]
     },
     "execution_count": 67,
     "metadata": {},
     "output_type": "execute_result"
    }
   ],
   "source": [
    "broadway.tail(10)"
   ]
  },
  {
   "cell_type": "markdown",
   "metadata": {},
   "source": [
    "Sometimes it is easier to see a certain trend in our data by simply plotting the values from a few columns together. Like so:"
   ]
  },
  {
   "cell_type": "code",
   "execution_count": 68,
   "metadata": {},
   "outputs": [
    {
     "data": {
      "image/png": "[encoded data removed]",
      "text/plain": [
       "<Figure size 432x288 with 1 Axes>"
      ]
     },
     "metadata": {
      "needs_background": "light"
     },
     "output_type": "display_data"
    }
   ],
   "source": [
    "plt.scatter(broadway['Year'], broadway['Gross'])\n",
    "plt.show()"
   ]
  },
  {
   "cell_type": "markdown",
   "metadata": {},
   "source": [
    "So we can see that the Gross amount for the shows were growing in the course of years. Which makes perfect sense. What if we wanted to see the same trend for a specific show? How about we see the changes in gross amount by week for all the years \"The Phantom of the Opera\" was on stage?"
   ]
  },
  {
   "cell_type": "code",
   "execution_count": 69,
   "metadata": {},
   "outputs": [],
   "source": [
    "phantom = broadway[broadway['Name'] == \"The Phantom Of The Opera\"]\n"
   ]
  },
  {
   "cell_type": "code",
   "execution_count": 70,
   "metadata": {},
   "outputs": [
    {
     "data": {
      "text/html": [
       "<div>\n",
       "<style scoped>\n",
       "    .dataframe tbody tr th:only-of-type {\n",
       "        vertical-align: middle;\n",
       "    }\n",
       "\n",
       "    .dataframe tbody tr th {\n",
       "        vertical-align: top;\n",
       "    }\n",
       "\n",
       "    .dataframe thead th {\n",
       "        text-align: right;\n",
       "    }\n",
       "</style>\n",
       "<table border=\"1\" class=\"dataframe\">\n",
       "  <thead>\n",
       "    <tr style=\"text-align: right;\">\n",
       "      <th></th>\n",
       "      <th>Attendance</th>\n",
       "      <th>Capacity</th>\n",
       "      <th>Day</th>\n",
       "      <th>Full</th>\n",
       "      <th>Gross</th>\n",
       "      <th>Gross Potential</th>\n",
       "      <th>Month</th>\n",
       "      <th>Name</th>\n",
       "      <th>Performances</th>\n",
       "      <th>Theatre</th>\n",
       "      <th>Type</th>\n",
       "      <th>Year</th>\n",
       "    </tr>\n",
       "  </thead>\n",
       "  <tbody>\n",
       "    <tr>\n",
       "      <th>986</th>\n",
       "      <td>13080</td>\n",
       "      <td>102</td>\n",
       "      <td>2</td>\n",
       "      <td>06/02/1996</td>\n",
       "      <td>729838</td>\n",
       "      <td>0</td>\n",
       "      <td>6</td>\n",
       "      <td>The Phantom Of The Opera</td>\n",
       "      <td>8</td>\n",
       "      <td>Majestic</td>\n",
       "      <td>Musical</td>\n",
       "      <td>1996</td>\n",
       "    </tr>\n",
       "    <tr>\n",
       "      <th>1012</th>\n",
       "      <td>13080</td>\n",
       "      <td>102</td>\n",
       "      <td>9</td>\n",
       "      <td>06/09/1996</td>\n",
       "      <td>720042</td>\n",
       "      <td>0</td>\n",
       "      <td>6</td>\n",
       "      <td>The Phantom Of The Opera</td>\n",
       "      <td>8</td>\n",
       "      <td>Majestic</td>\n",
       "      <td>Musical</td>\n",
       "      <td>1996</td>\n",
       "    </tr>\n",
       "    <tr>\n",
       "      <th>1039</th>\n",
       "      <td>13074</td>\n",
       "      <td>102</td>\n",
       "      <td>16</td>\n",
       "      <td>06/16/1996</td>\n",
       "      <td>722807</td>\n",
       "      <td>0</td>\n",
       "      <td>6</td>\n",
       "      <td>The Phantom Of The Opera</td>\n",
       "      <td>8</td>\n",
       "      <td>Majestic</td>\n",
       "      <td>Musical</td>\n",
       "      <td>1996</td>\n",
       "    </tr>\n",
       "    <tr>\n",
       "      <th>1066</th>\n",
       "      <td>12966</td>\n",
       "      <td>101</td>\n",
       "      <td>23</td>\n",
       "      <td>06/23/1996</td>\n",
       "      <td>729020</td>\n",
       "      <td>0</td>\n",
       "      <td>6</td>\n",
       "      <td>The Phantom Of The Opera</td>\n",
       "      <td>8</td>\n",
       "      <td>Majestic</td>\n",
       "      <td>Musical</td>\n",
       "      <td>1996</td>\n",
       "    </tr>\n",
       "    <tr>\n",
       "      <th>1092</th>\n",
       "      <td>13080</td>\n",
       "      <td>102</td>\n",
       "      <td>30</td>\n",
       "      <td>06/30/1996</td>\n",
       "      <td>733278</td>\n",
       "      <td>0</td>\n",
       "      <td>6</td>\n",
       "      <td>The Phantom Of The Opera</td>\n",
       "      <td>8</td>\n",
       "      <td>Majestic</td>\n",
       "      <td>Musical</td>\n",
       "      <td>1996</td>\n",
       "    </tr>\n",
       "    <tr>\n",
       "      <th>...</th>\n",
       "      <td>...</td>\n",
       "      <td>...</td>\n",
       "      <td>...</td>\n",
       "      <td>...</td>\n",
       "      <td>...</td>\n",
       "      <td>...</td>\n",
       "      <td>...</td>\n",
       "      <td>...</td>\n",
       "      <td>...</td>\n",
       "      <td>...</td>\n",
       "      <td>...</td>\n",
       "      <td>...</td>\n",
       "    </tr>\n",
       "    <tr>\n",
       "      <th>31186</th>\n",
       "      <td>10811</td>\n",
       "      <td>84</td>\n",
       "      <td>17</td>\n",
       "      <td>07/17/2016</td>\n",
       "      <td>984395</td>\n",
       "      <td>65</td>\n",
       "      <td>7</td>\n",
       "      <td>The Phantom Of The Opera</td>\n",
       "      <td>8</td>\n",
       "      <td>Majestic</td>\n",
       "      <td>Musical</td>\n",
       "      <td>2016</td>\n",
       "    </tr>\n",
       "    <tr>\n",
       "      <th>31215</th>\n",
       "      <td>11107</td>\n",
       "      <td>87</td>\n",
       "      <td>24</td>\n",
       "      <td>07/24/2016</td>\n",
       "      <td>1016681</td>\n",
       "      <td>67</td>\n",
       "      <td>7</td>\n",
       "      <td>The Phantom Of The Opera</td>\n",
       "      <td>8</td>\n",
       "      <td>Majestic</td>\n",
       "      <td>Musical</td>\n",
       "      <td>2016</td>\n",
       "    </tr>\n",
       "    <tr>\n",
       "      <th>31242</th>\n",
       "      <td>11093</td>\n",
       "      <td>86</td>\n",
       "      <td>31</td>\n",
       "      <td>07/31/2016</td>\n",
       "      <td>1016634</td>\n",
       "      <td>67</td>\n",
       "      <td>7</td>\n",
       "      <td>The Phantom Of The Opera</td>\n",
       "      <td>8</td>\n",
       "      <td>Majestic</td>\n",
       "      <td>Musical</td>\n",
       "      <td>2016</td>\n",
       "    </tr>\n",
       "    <tr>\n",
       "      <th>31267</th>\n",
       "      <td>10475</td>\n",
       "      <td>82</td>\n",
       "      <td>7</td>\n",
       "      <td>08/07/2016</td>\n",
       "      <td>961265</td>\n",
       "      <td>63</td>\n",
       "      <td>8</td>\n",
       "      <td>The Phantom Of The Opera</td>\n",
       "      <td>8</td>\n",
       "      <td>Majestic</td>\n",
       "      <td>Musical</td>\n",
       "      <td>2016</td>\n",
       "    </tr>\n",
       "    <tr>\n",
       "      <th>31293</th>\n",
       "      <td>10966</td>\n",
       "      <td>85</td>\n",
       "      <td>14</td>\n",
       "      <td>08/14/2016</td>\n",
       "      <td>999632</td>\n",
       "      <td>66</td>\n",
       "      <td>8</td>\n",
       "      <td>The Phantom Of The Opera</td>\n",
       "      <td>8</td>\n",
       "      <td>Majestic</td>\n",
       "      <td>Musical</td>\n",
       "      <td>2016</td>\n",
       "    </tr>\n",
       "  </tbody>\n",
       "</table>\n",
       "<p>1053 rows × 12 columns</p>\n",
       "</div>"
      ],
      "text/plain": [
       "       Attendance  Capacity  Day        Full    Gross  Gross Potential  Month  \\\n",
       "986         13080       102    2  06/02/1996   729838                0      6   \n",
       "1012        13080       102    9  06/09/1996   720042                0      6   \n",
       "1039        13074       102   16  06/16/1996   722807                0      6   \n",
       "1066        12966       101   23  06/23/1996   729020                0      6   \n",
       "1092        13080       102   30  06/30/1996   733278                0      6   \n",
       "...           ...       ...  ...         ...      ...              ...    ...   \n",
       "31186       10811        84   17  07/17/2016   984395               65      7   \n",
       "31215       11107        87   24  07/24/2016  1016681               67      7   \n",
       "31242       11093        86   31  07/31/2016  1016634               67      7   \n",
       "31267       10475        82    7  08/07/2016   961265               63      8   \n",
       "31293       10966        85   14  08/14/2016   999632               66      8   \n",
       "\n",
       "                           Name  Performances   Theatre     Type  Year  \n",
       "986    The Phantom Of The Opera             8  Majestic  Musical  1996  \n",
       "1012   The Phantom Of The Opera             8  Majestic  Musical  1996  \n",
       "1039   The Phantom Of The Opera             8  Majestic  Musical  1996  \n",
       "1066   The Phantom Of The Opera             8  Majestic  Musical  1996  \n",
       "1092   The Phantom Of The Opera             8  Majestic  Musical  1996  \n",
       "...                         ...           ...       ...      ...   ...  \n",
       "31186  The Phantom Of The Opera             8  Majestic  Musical  2016  \n",
       "31215  The Phantom Of The Opera             8  Majestic  Musical  2016  \n",
       "31242  The Phantom Of The Opera             8  Majestic  Musical  2016  \n",
       "31267  The Phantom Of The Opera             8  Majestic  Musical  2016  \n",
       "31293  The Phantom Of The Opera             8  Majestic  Musical  2016  \n",
       "\n",
       "[1053 rows x 12 columns]"
      ]
     },
     "execution_count": 70,
     "metadata": {},
     "output_type": "execute_result"
    }
   ],
   "source": [
    "phantom"
   ]
  },
  {
   "cell_type": "code",
   "execution_count": 71,
   "metadata": {},
   "outputs": [
    {
     "data": {
      "image/png": "[encoded data removed]",
      "text/plain": [
       "<Figure size 432x288 with 1 Axes>"
      ]
     },
     "metadata": {
      "needs_background": "light"
     },
     "output_type": "display_data"
    }
   ],
   "source": [
    "plt.scatter(phantom['Year'], phantom['Gross'])\n",
    "plt.show()"
   ]
  },
  {
   "cell_type": "markdown",
   "metadata": {},
   "source": [
    "<div class=\"alert alert-success\" style=\"font-size:120%\">\n",
    "<b>YOUR TURN</b>: <br>\n",
    " Use the same code for any other show you are interested in.\n",
    "</div>"
   ]
  },
  {
   "cell_type": "code",
   "execution_count": 72,
   "metadata": {},
   "outputs": [
    {
     "data": {
      "image/png": "[encoded data removed]",
      "text/plain": [
       "<Figure size 432x288 with 1 Axes>"
      ]
     },
     "metadata": {
      "needs_background": "light"
     },
     "output_type": "display_data"
    }
   ],
   "source": [
    "### YOUR CODE HERE ###\n",
    "lion = broadway[broadway['Name'] == \"The Lion King\"]\n",
    "plt.scatter(lion['Year'], lion['Gross'])\n",
    "plt.show()"
   ]
  },
  {
   "cell_type": "markdown",
   "metadata": {},
   "source": [
    "## <font color='red'> 3. Conditionals"
   ]
  },
  {
   "cell_type": "markdown",
   "metadata": {},
   "source": [
    "Conditionals are also known as **booleans**. With conditional statements we can let the computer know when (aka under which condition) we want a specific operation to be executed. Under the hood the computer evaluates if the condition is True and performs a specific operation (like print( ), return( ), etc). Some of the most popular conditional statements are:"
   ]
  },
  {
   "cell_type": "markdown",
   "metadata": {},
   "source": [
    "**A == B: True if A equals B**\n",
    "\n",
    "**A != B: True if A is not equal to B**\n",
    "\n",
    "**A > B: True if A is greater than B. Same syntax for \"<\"**\n",
    "\n",
    "**A >= B: True if A is greater than or equal to B. Same syntax for \"<=\"**"
   ]
  },
  {
   "cell_type": "markdown",
   "metadata": {},
   "source": [
    "We have three types of statements in the Python conditionals: if, elif, and else. We always start with \"if\", we always end with \"else\". The \"elif\" statement is optional. It literally means \"else if\". While both \"if\" and \"else\" can only be used once, \"elif\" can be used multiple times, and let you add many more conditions to your statement.\n",
    "\n",
    "If the condition in the if case is False, then we move to the elif case. If the elif case is false, then we will move to the else case and perform whatever is inside the else condition. We move into the condition that has a True conditional value first and evaluate that."
   ]
  },
  {
   "cell_type": "code",
   "execution_count": 73,
   "metadata": {},
   "outputs": [
    {
     "name": "stdout",
     "output_type": "stream",
     "text": [
      "True\n"
     ]
    }
   ],
   "source": [
    "playwright = \"Lin-Manuel Miranda\"\n",
    "\n",
    "if playwright == \"Lin-Manuel Miranda\":\n",
    "    print (True)\n",
    "else:\n",
    "    print (False)"
   ]
  },
  {
   "cell_type": "markdown",
   "metadata": {},
   "source": [
    "**Note:** \"=\" and \"==\" are not the same operations in Python. A single equals sign (=) assignes the value to the right of it to the variable name to the left of it. While the double equals sign (==) compares if the value on the right is equal to the value to the left of it. "
   ]
  },
  {
   "cell_type": "markdown",
   "metadata": {},
   "source": [
    "In the next line, let's ask Python to print the name of the school two of the Founding Fathers went based on their name. Feel free to change the string our \"name\" variable is assigned to."
   ]
  },
  {
   "cell_type": "code",
   "execution_count": 74,
   "metadata": {},
   "outputs": [
    {
     "name": "stdout",
     "output_type": "stream",
     "text": [
      "Columbia\n"
     ]
    }
   ],
   "source": [
    "name = \"Hamilton\"\n",
    "\n",
    "# Feel free to change the value of the variable \"name\"\n",
    "\n",
    "if name == \"Hamilton\":\n",
    "    print(\"Columbia\")\n",
    "elif name == \"Burr\":\n",
    "    print(\"Princeton\")\n",
    "else:\n",
    "    print(\"I don't know\")"
   ]
  },
  {
   "cell_type": "markdown",
   "metadata": {},
   "source": [
    "In the cell below guess what the output will be, before you run it. Feel free to change the numeral under the variable \"year\"."
   ]
  },
  {
   "cell_type": "code",
   "execution_count": 75,
   "metadata": {},
   "outputs": [
    {
     "name": "stdout",
     "output_type": "stream",
     "text": [
      "George Washington\n"
     ]
    }
   ],
   "source": [
    "year = 1789\n",
    "\n",
    "# Who's the president\n",
    "\n",
    "if year>=1789 and year<1797:\n",
    "    print(\"George Washington\")\n",
    "elif year>=1797:\n",
    "    print(\"John Adams\")\n",
    "else:\n",
    "    print(\"King George\")"
   ]
  },
  {
   "cell_type": "markdown",
   "metadata": {},
   "source": [
    "We can also search through lists of values in our conditional statements to see if a word is in our list using the keyword 'in':"
   ]
  },
  {
   "cell_type": "code",
   "execution_count": 76,
   "metadata": {},
   "outputs": [
    {
     "name": "stdout",
     "output_type": "stream",
     "text": [
      "You've got to be in the room where it happens!\n"
     ]
    }
   ],
   "source": [
    "founding_fathers = [\"Jefferson\", \"Hancock\", \"Hamilton\", \"Adams\", \"Washington\", \"Burr\", \"Madison\"]\n",
    "\n",
    "# change the name in \"any_name\"\n",
    "if \"any_name\" in founding_fathers:\n",
    "    print(\"You are not throwing away your shot!\")\n",
    "else:\n",
    "    print(\"You've got to be in the room where it happens!\")"
   ]
  },
  {
   "cell_type": "markdown",
   "metadata": {},
   "source": [
    "<a>\n",
    "  <img src=\"images/debugging.jpg\" width='500' height='700'>\n",
    "</a>"
   ]
  },
  {
   "cell_type": "markdown",
   "metadata": {},
   "source": [
    "## <font color='red'> 4. For-loops"
   ]
  },
  {
   "cell_type": "markdown",
   "metadata": {},
   "source": [
    "Loops (aka for-loops) allow for some code to be executed repeatedly. For example, if you wish to print the numbers from 0 to 10, you can do that with the for-loop. \n",
    "\n",
    "A for-loop iterates through a sequence of elements (list, string, array, etc.) and reassigns an element (which can have any name, most common are \"x\", \"i\", \"elem\", the name in itself doesn't matter) to each element of the sequence sequentially. "
   ]
  },
  {
   "cell_type": "code",
   "execution_count": 77,
   "metadata": {},
   "outputs": [
    {
     "name": "stdout",
     "output_type": "stream",
     "text": [
      "a\n",
      "b\n",
      "c\n"
     ]
    },
    {
     "data": {
      "text/plain": [
       "'c'"
      ]
     },
     "execution_count": 77,
     "metadata": {},
     "output_type": "execute_result"
    }
   ],
   "source": [
    "for elem in ['a', 'b', 'c']:   \n",
    "    print(elem)\n",
    "\n",
    "elem"
   ]
  },
  {
   "cell_type": "markdown",
   "metadata": {},
   "source": [
    "That is why in the previous code cell we can see that when an \"elem\" is called at the end of the loop, it is equal to \"c\" which is the last element of the sequence."
   ]
  },
  {
   "cell_type": "markdown",
   "metadata": {},
   "source": [
    "\n",
    "In the cell below we will be using the built-in function called range( ). It enumerates the numbers from 0 up to a number you put in (exclusive of that last number).\n",
    "\n",
    "**Note:** remember that Python starts to count from 0, hence the last number you specify is not going to be included."
   ]
  },
  {
   "cell_type": "code",
   "execution_count": 78,
   "metadata": {},
   "outputs": [
    {
     "name": "stdout",
     "output_type": "stream",
     "text": [
      "0\n",
      "1\n",
      "2\n",
      "3\n",
      "4\n",
      "5\n",
      "6\n",
      "7\n",
      "8\n",
      "9\n",
      "10\n"
     ]
    }
   ],
   "source": [
    "for i in range(11):\n",
    "    print(i)"
   ]
  },
  {
   "cell_type": "markdown",
   "metadata": {},
   "source": [
    "<div class=\"alert alert-success\" style=\"font-size:120%\">\n",
    "<b>YOUR TURN</b>: <br>\n",
    " Let's combine what you know so far about lists, conditionals, and for loops:   \n",
    " \n",
    " Create a list with values 1, 2, 3, 4, 5. Iterate through the list with a for loop, and print only the values that are greater than 2.  \n",
    " Otherwise, print the statement \"This value is not greater than 2.\"\n",
    "</div>"
   ]
  },
  {
   "cell_type": "code",
   "execution_count": 79,
   "metadata": {},
   "outputs": [
    {
     "name": "stdout",
     "output_type": "stream",
     "text": [
      "This value is not greater than 2\n",
      "This value is not greater than 2\n",
      "3\n",
      "4\n",
      "5\n"
     ]
    }
   ],
   "source": [
    "### YOUR CODE HERE ###\n",
    "lst=[1,2,3,4,5]\n",
    "\n",
    "for i in lst:\n",
    "    if i>2:\n",
    "        print(i)\n",
    "    elif i<=2:\n",
    "        print(\"This value is not greater than 2\")"
   ]
  },
  {
   "cell_type": "code",
   "execution_count": null,
   "metadata": {},
   "outputs": [],
   "source": []
  }
 ],
 "metadata": {
  "kernelspec": {
   "display_name": "Python 3",
   "language": "python",
   "name": "python3"
  },
  "language_info": {
   "codemirror_mode": {
    "name": "ipython",
    "version": 3
   },
   "file_extension": ".py",
   "mimetype": "text/x-python",
   "name": "python",
   "nbconvert_exporter": "python",
   "pygments_lexer": "ipython3",
   "version": "3.9.0"
  }
 },
 "nbformat": 4,
 "nbformat_minor": 4
}
